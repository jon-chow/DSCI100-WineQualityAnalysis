{
 "cells": [
  {
   "cell_type": "markdown",
   "metadata": {},
   "source": [
    "# **Predicting Wine Quality Through Classification and Regression**\n",
    "#### DSCI 100 Winter T2 Group 006-042"
   ]
  },
  {
   "cell_type": "markdown",
   "metadata": {},
   "source": [
    "## Introduction:"
   ]
  },
  {
   "cell_type": "markdown",
   "metadata": {},
   "source": [
    "Consumer selection on wine has been heavily dependent on quality certifications for purchasing decisions and producers have been doing the same for pricing (Cortez et al., 2009). The certification for wine quality is a tedious process, requiring wine experts (connoisseurs) to sample the taste and smell of the wine to determine its quality (Cortez et al., 2009). However, there are biases when conducting these sensory taste tests due to personal preferences of the experts and the complex nature of the human taste bud (Smith and Margolskee, 2001).\n",
    "\n",
    "We would like to know whether it is possible to obtain an accurate model to predict wine quality based on its chemical properties, ultimately replacing human sensory evaluators.\n",
    "For this purpose, we use the KNN classification model over a data set containing the chemical properties and quality of 1599 different red wines.\n",
    "\n",
    "The data set is collected in 2009 by Cortez et al. and has the following 12 variables:"
   ]
  },
  {
   "cell_type": "markdown",
   "metadata": {},
   "source": [
    "#### Attribute (units):\n",
    "- Fixed acidity ($g/dm^3$)\n",
    "- Volatile acidity ($g/dm^3$)\n",
    "- Citric acid ($g/dm^3$)\n",
    "- Residual sugar ($g/dm^3$)\n",
    "- Chlorides ($g/dm^3$)\n",
    "- Free sulfur dioxide ($mg/dm^3$)\n",
    "- Total sulfur dioxide ($mg/dm^3$)\n",
    "- Density ($g/cm^3$)\n",
    "- pH\n",
    "- Sulphates ($g/dm^3$)\n",
    "- Alcohol ($vol.\\%$)\n",
    "- Quality (from 0 to 10)"
   ]
  },
  {
   "cell_type": "markdown",
   "metadata": {},
   "source": [
    "The quality variable is determined from the range 0-10 based on the evaluations of 3 human assessors.\n",
    "\n",
    "We will not be using all the given variables for quality prediction, as we find some of the variables correlated, and some not related to the quality. The way we choose the variables is "
   ]
  },
  {
   "cell_type": "markdown",
   "metadata": {},
   "source": [
    "## Expected Outcomes and Significance:"
   ]
  },
  {
   "cell_type": "markdown",
   "metadata": {},
   "source": [
    "The impact of these findings may help improve the wine industry. In recent years, this industry is growing and thus there is an increased interest in investing in more innovative techniques that may enhance wine production as well as its selling. Our work aims to integrate subjective rankings to objective measures so that people can extrapolate these findings and make better quality wines. These variables are able to be controlled and manipulated during production. Thus, our findings may be used by oenologists to improve their wine production.\n",
    "\n",
    "Future questions that may arise include those concerned over what other potential factors may influence the quality of wine or whether the interaction between variables has a greater impact than considered singularly. Further assessment may attempt to discover relationships between variables that together produce a stronger prediction of wine quality. This analysis may also raise the question of whether subjective experience or objective measures matter most. It is possible that personal and sensory experiences play a larger role in shaping wine quality rankings. Therefore, further analysis may explore these subjective factors.\n"
   ]
  },
  {
   "cell_type": "markdown",
   "metadata": {},
   "source": [
    "## Methods and Results"
   ]
  },
  {
   "cell_type": "markdown",
   "metadata": {},
   "source": [
    "### Preliminary Exploratory Data Analysis:"
   ]
  },
  {
   "cell_type": "code",
   "execution_count": 46,
   "metadata": {},
   "outputs": [
    {
     "name": "stderr",
     "output_type": "stream",
     "text": [
      "Updating HTML index of packages in '.Library'\n",
      "\n",
      "Making 'packages.html' ...\n",
      " done\n",
      "\n"
     ]
    }
   ],
   "source": [
    "# package installations and loading libraries\n",
    "install.packages(\"themis\")\n",
    "library(tidyverse)\n",
    "library(tidymodels)\n",
    "library(gridExtra)\n",
    "library(recipes) \n",
    "library(themis) "
   ]
  },
  {
   "cell_type": "code",
   "execution_count": 73,
   "metadata": {},
   "outputs": [
    {
     "name": "stdout",
     "output_type": "stream",
     "text": [
      "Rows: 1,599\n",
      "Columns: 12\n",
      "$ fixed.acidity        \u001b[3m\u001b[90m<dbl>\u001b[39m\u001b[23m 7.4, 7.8, 7.8, 11.2, 7.4, 7.4, 7.9, 7.3, 7.8, 7.…\n",
      "$ volatile.acidity     \u001b[3m\u001b[90m<dbl>\u001b[39m\u001b[23m 0.700, 0.880, 0.760, 0.280, 0.700, 0.660, 0.600,…\n",
      "$ citric.acid          \u001b[3m\u001b[90m<dbl>\u001b[39m\u001b[23m 0.00, 0.00, 0.04, 0.56, 0.00, 0.00, 0.06, 0.00, …\n",
      "$ residual.sugar       \u001b[3m\u001b[90m<dbl>\u001b[39m\u001b[23m 1.9, 2.6, 2.3, 1.9, 1.9, 1.8, 1.6, 1.2, 2.0, 6.1…\n",
      "$ chlorides            \u001b[3m\u001b[90m<dbl>\u001b[39m\u001b[23m 0.076, 0.098, 0.092, 0.075, 0.076, 0.075, 0.069,…\n",
      "$ free.sulfur.dioxide  \u001b[3m\u001b[90m<dbl>\u001b[39m\u001b[23m 11, 25, 15, 17, 11, 13, 15, 15, 9, 17, 15, 17, 1…\n",
      "$ total.sulfur.dioxide \u001b[3m\u001b[90m<dbl>\u001b[39m\u001b[23m 34, 67, 54, 60, 34, 40, 59, 21, 18, 102, 65, 102…\n",
      "$ density              \u001b[3m\u001b[90m<dbl>\u001b[39m\u001b[23m 0.9978, 0.9968, 0.9970, 0.9980, 0.9978, 0.9978, …\n",
      "$ pH                   \u001b[3m\u001b[90m<dbl>\u001b[39m\u001b[23m 3.51, 3.20, 3.26, 3.16, 3.51, 3.51, 3.30, 3.39, …\n",
      "$ sulphates            \u001b[3m\u001b[90m<dbl>\u001b[39m\u001b[23m 0.56, 0.68, 0.65, 0.58, 0.56, 0.56, 0.46, 0.47, …\n",
      "$ alcohol              \u001b[3m\u001b[90m<dbl>\u001b[39m\u001b[23m 9.4, 9.8, 9.8, 9.8, 9.4, 9.4, 9.4, 10.0, 9.5, 10…\n",
      "$ quality              \u001b[3m\u001b[90m<int>\u001b[39m\u001b[23m 5, 5, 5, 6, 5, 5, 5, 7, 7, 5, 5, 5, 5, 5, 5, 5, …\n"
     ]
    }
   ],
   "source": [
    "# downloading and reading the red wine quality dataset into R\n",
    "url <- \"https://archive.ics.uci.edu/ml/machine-learning-databases/wine-quality/winequality-red.csv\"\n",
    "destination <- \"data/red_wine_quality.csv\"\n",
    "download.file(url, destination)\n",
    "\n",
    "data <- read.csv(destination, head = TRUE, sep = \";\")\n",
    "glimpse(data)"
   ]
  },
  {
   "cell_type": "code",
   "execution_count": 74,
   "metadata": {},
   "outputs": [
    {
     "data": {
      "text/html": [
       "<table>\n",
       "<caption>A data.frame: 6 × 12</caption>\n",
       "<thead>\n",
       "\t<tr><th></th><th scope=col>fixed_acidity</th><th scope=col>volatile_acidity</th><th scope=col>citric_acid</th><th scope=col>residual_sugar</th><th scope=col>chlorides</th><th scope=col>free_so2</th><th scope=col>total_so2</th><th scope=col>density</th><th scope=col>pH</th><th scope=col>sulphates</th><th scope=col>alcohol</th><th scope=col>quality</th></tr>\n",
       "\t<tr><th></th><th scope=col>&lt;dbl&gt;</th><th scope=col>&lt;dbl&gt;</th><th scope=col>&lt;dbl&gt;</th><th scope=col>&lt;dbl&gt;</th><th scope=col>&lt;dbl&gt;</th><th scope=col>&lt;dbl&gt;</th><th scope=col>&lt;dbl&gt;</th><th scope=col>&lt;dbl&gt;</th><th scope=col>&lt;dbl&gt;</th><th scope=col>&lt;dbl&gt;</th><th scope=col>&lt;dbl&gt;</th><th scope=col>&lt;fct&gt;</th></tr>\n",
       "</thead>\n",
       "<tbody>\n",
       "\t<tr><th scope=row>1</th><td> 7.4</td><td>0.70</td><td>0.00</td><td>1.9</td><td>0.076</td><td>11</td><td>34</td><td>0.9978</td><td>3.51</td><td>0.56</td><td>9.4</td><td>5</td></tr>\n",
       "\t<tr><th scope=row>2</th><td> 7.8</td><td>0.88</td><td>0.00</td><td>2.6</td><td>0.098</td><td>25</td><td>67</td><td>0.9968</td><td>3.20</td><td>0.68</td><td>9.8</td><td>5</td></tr>\n",
       "\t<tr><th scope=row>3</th><td> 7.8</td><td>0.76</td><td>0.04</td><td>2.3</td><td>0.092</td><td>15</td><td>54</td><td>0.9970</td><td>3.26</td><td>0.65</td><td>9.8</td><td>5</td></tr>\n",
       "\t<tr><th scope=row>4</th><td>11.2</td><td>0.28</td><td>0.56</td><td>1.9</td><td>0.075</td><td>17</td><td>60</td><td>0.9980</td><td>3.16</td><td>0.58</td><td>9.8</td><td>6</td></tr>\n",
       "\t<tr><th scope=row>5</th><td> 7.4</td><td>0.70</td><td>0.00</td><td>1.9</td><td>0.076</td><td>11</td><td>34</td><td>0.9978</td><td>3.51</td><td>0.56</td><td>9.4</td><td>5</td></tr>\n",
       "\t<tr><th scope=row>6</th><td> 7.4</td><td>0.66</td><td>0.00</td><td>1.8</td><td>0.075</td><td>13</td><td>40</td><td>0.9978</td><td>3.51</td><td>0.56</td><td>9.4</td><td>5</td></tr>\n",
       "</tbody>\n",
       "</table>\n"
      ],
      "text/latex": [
       "A data.frame: 6 × 12\n",
       "\\begin{tabular}{r|llllllllllll}\n",
       "  & fixed\\_acidity & volatile\\_acidity & citric\\_acid & residual\\_sugar & chlorides & free\\_so2 & total\\_so2 & density & pH & sulphates & alcohol & quality\\\\\n",
       "  & <dbl> & <dbl> & <dbl> & <dbl> & <dbl> & <dbl> & <dbl> & <dbl> & <dbl> & <dbl> & <dbl> & <fct>\\\\\n",
       "\\hline\n",
       "\t1 &  7.4 & 0.70 & 0.00 & 1.9 & 0.076 & 11 & 34 & 0.9978 & 3.51 & 0.56 & 9.4 & 5\\\\\n",
       "\t2 &  7.8 & 0.88 & 0.00 & 2.6 & 0.098 & 25 & 67 & 0.9968 & 3.20 & 0.68 & 9.8 & 5\\\\\n",
       "\t3 &  7.8 & 0.76 & 0.04 & 2.3 & 0.092 & 15 & 54 & 0.9970 & 3.26 & 0.65 & 9.8 & 5\\\\\n",
       "\t4 & 11.2 & 0.28 & 0.56 & 1.9 & 0.075 & 17 & 60 & 0.9980 & 3.16 & 0.58 & 9.8 & 6\\\\\n",
       "\t5 &  7.4 & 0.70 & 0.00 & 1.9 & 0.076 & 11 & 34 & 0.9978 & 3.51 & 0.56 & 9.4 & 5\\\\\n",
       "\t6 &  7.4 & 0.66 & 0.00 & 1.8 & 0.075 & 13 & 40 & 0.9978 & 3.51 & 0.56 & 9.4 & 5\\\\\n",
       "\\end{tabular}\n"
      ],
      "text/markdown": [
       "\n",
       "A data.frame: 6 × 12\n",
       "\n",
       "| <!--/--> | fixed_acidity &lt;dbl&gt; | volatile_acidity &lt;dbl&gt; | citric_acid &lt;dbl&gt; | residual_sugar &lt;dbl&gt; | chlorides &lt;dbl&gt; | free_so2 &lt;dbl&gt; | total_so2 &lt;dbl&gt; | density &lt;dbl&gt; | pH &lt;dbl&gt; | sulphates &lt;dbl&gt; | alcohol &lt;dbl&gt; | quality &lt;fct&gt; |\n",
       "|---|---|---|---|---|---|---|---|---|---|---|---|---|\n",
       "| 1 |  7.4 | 0.70 | 0.00 | 1.9 | 0.076 | 11 | 34 | 0.9978 | 3.51 | 0.56 | 9.4 | 5 |\n",
       "| 2 |  7.8 | 0.88 | 0.00 | 2.6 | 0.098 | 25 | 67 | 0.9968 | 3.20 | 0.68 | 9.8 | 5 |\n",
       "| 3 |  7.8 | 0.76 | 0.04 | 2.3 | 0.092 | 15 | 54 | 0.9970 | 3.26 | 0.65 | 9.8 | 5 |\n",
       "| 4 | 11.2 | 0.28 | 0.56 | 1.9 | 0.075 | 17 | 60 | 0.9980 | 3.16 | 0.58 | 9.8 | 6 |\n",
       "| 5 |  7.4 | 0.70 | 0.00 | 1.9 | 0.076 | 11 | 34 | 0.9978 | 3.51 | 0.56 | 9.4 | 5 |\n",
       "| 6 |  7.4 | 0.66 | 0.00 | 1.8 | 0.075 | 13 | 40 | 0.9978 | 3.51 | 0.56 | 9.4 | 5 |\n",
       "\n"
      ],
      "text/plain": [
       "  fixed_acidity volatile_acidity citric_acid residual_sugar chlorides free_so2\n",
       "1  7.4          0.70             0.00        1.9            0.076     11      \n",
       "2  7.8          0.88             0.00        2.6            0.098     25      \n",
       "3  7.8          0.76             0.04        2.3            0.092     15      \n",
       "4 11.2          0.28             0.56        1.9            0.075     17      \n",
       "5  7.4          0.70             0.00        1.9            0.076     11      \n",
       "6  7.4          0.66             0.00        1.8            0.075     13      \n",
       "  total_so2 density pH   sulphates alcohol quality\n",
       "1 34        0.9978  3.51 0.56      9.4     5      \n",
       "2 67        0.9968  3.20 0.68      9.8     5      \n",
       "3 54        0.9970  3.26 0.65      9.8     5      \n",
       "4 60        0.9980  3.16 0.58      9.8     6      \n",
       "5 34        0.9978  3.51 0.56      9.4     5      \n",
       "6 40        0.9978  3.51 0.56      9.4     5      "
      ]
     },
     "metadata": {},
     "output_type": "display_data"
    }
   ],
   "source": [
    "# cleaning and wrangling the dataset\n",
    "colnames(data) <- gsub(\"\\\\.\", \"_\", names(data))\n",
    "colnames(data)[colnames(data) %in% c(\"free_sulfur_dioxide\", \"total_sulfur_dioxide\")] <- c(\"free_so2\", \"total_so2\")\n",
    "\n",
    "clean_data <- data %>%\n",
    "              mutate(quality = as_factor(quality)) %>%\n",
    "              na.omit()\n",
    "\n",
    "head(clean_data)"
   ]
  },
  {
   "cell_type": "code",
   "execution_count": 51,
   "metadata": {},
   "outputs": [
    {
     "name": "stdout",
     "output_type": "stream",
     "text": [
      "Rows: 961\n",
      "Columns: 12\n",
      "$ fixed_acidity    \u001b[3m\u001b[90m<dbl>\u001b[39m\u001b[23m 11.2, 7.4, 7.9, 6.7, 7.8, 8.9, 8.5, 7.4, 8.5, 7.6, 7…\n",
      "$ volatile_acidity \u001b[3m\u001b[90m<dbl>\u001b[39m\u001b[23m 0.280, 0.700, 0.600, 0.580, 0.610, 0.620, 0.280, 0.5…\n",
      "$ citric_acid      \u001b[3m\u001b[90m<dbl>\u001b[39m\u001b[23m 0.56, 0.00, 0.06, 0.08, 0.29, 0.18, 0.56, 0.08, 0.11…\n",
      "$ residual_sugar   \u001b[3m\u001b[90m<dbl>\u001b[39m\u001b[23m 1.9, 1.9, 1.6, 1.8, 1.6, 3.8, 1.8, 4.4, 2.3, 1.8, 1.…\n",
      "$ chlorides        \u001b[3m\u001b[90m<dbl>\u001b[39m\u001b[23m 0.075, 0.076, 0.069, 0.097, 0.114, 0.176, 0.092, 0.0…\n",
      "$ free_so2         \u001b[3m\u001b[90m<dbl>\u001b[39m\u001b[23m 17, 11, 15, 15, 9, 52, 35, 6, 9, 4, 10, 14, 17, 22, …\n",
      "$ total_so2        \u001b[3m\u001b[90m<dbl>\u001b[39m\u001b[23m 60, 34, 59, 65, 29, 145, 103, 29, 67, 11, 37, 35, 82…\n",
      "$ density          \u001b[3m\u001b[90m<dbl>\u001b[39m\u001b[23m 0.9980, 0.9978, 0.9964, 0.9959, 0.9974, 0.9986, 0.99…\n",
      "$ pH               \u001b[3m\u001b[90m<dbl>\u001b[39m\u001b[23m 3.16, 3.51, 3.30, 3.28, 3.26, 3.16, 3.30, 3.38, 3.17…\n",
      "$ sulphates        \u001b[3m\u001b[90m<dbl>\u001b[39m\u001b[23m 0.58, 0.56, 0.46, 0.54, 1.56, 0.88, 0.75, 0.50, 0.53…\n",
      "$ alcohol          \u001b[3m\u001b[90m<dbl>\u001b[39m\u001b[23m 9.8, 9.4, 9.4, 9.2, 9.1, 9.2, 10.5, 9.0, 9.4, 9.5, 9…\n",
      "$ quality          \u001b[3m\u001b[90m<fct>\u001b[39m\u001b[23m 6, 5, 5, 5, 5, 5, 7, 4, 5, 5, 5, 5, 5, 6, 5, 6, 5, 6…\n"
     ]
    }
   ],
   "source": [
    "# splitting data into a training and testing dataset\n",
    "set.seed(7)\n",
    "clean_data_split <- initial_split(clean_data, prop = 0.6, strata = quality)\n",
    "train_data <- training(clean_data_split)\n",
    "test_data <- testing(clean_data_split) \n",
    "glimpse(train_data)"
   ]
  },
  {
   "cell_type": "code",
   "execution_count": 61,
   "metadata": {},
   "outputs": [
    {
     "data": {
      "text/html": [
       "<table>\n",
       "<caption>A tibble: 1 × 12</caption>\n",
       "<thead>\n",
       "\t<tr><th scope=col>mean_fixed_acidity</th><th scope=col>mean_volatile_acidity</th><th scope=col>mean_citric_acid</th><th scope=col>mean_residual_sugar</th><th scope=col>mean_chlorides</th><th scope=col>mean_free_so2</th><th scope=col>mean_total_so2</th><th scope=col>mean_density</th><th scope=col>mean_pH</th><th scope=col>mean_sulphates</th><th scope=col>mean_alcohol</th><th scope=col>mean_quality</th></tr>\n",
       "\t<tr><th scope=col>&lt;dbl&gt;</th><th scope=col>&lt;dbl&gt;</th><th scope=col>&lt;dbl&gt;</th><th scope=col>&lt;dbl&gt;</th><th scope=col>&lt;dbl&gt;</th><th scope=col>&lt;dbl&gt;</th><th scope=col>&lt;dbl&gt;</th><th scope=col>&lt;dbl&gt;</th><th scope=col>&lt;dbl&gt;</th><th scope=col>&lt;dbl&gt;</th><th scope=col>&lt;dbl&gt;</th><th scope=col>&lt;dbl&gt;</th></tr>\n",
       "</thead>\n",
       "<tbody>\n",
       "\t<tr><td>8.315609</td><td>0.5313944</td><td>0.2712383</td><td>2.547659</td><td>0.08877107</td><td>15.93392</td><td>46.3564</td><td>0.9967666</td><td>3.312227</td><td>0.6696254</td><td>10.41511</td><td>3.623309</td></tr>\n",
       "</tbody>\n",
       "</table>\n"
      ],
      "text/latex": [
       "A tibble: 1 × 12\n",
       "\\begin{tabular}{llllllllllll}\n",
       " mean\\_fixed\\_acidity & mean\\_volatile\\_acidity & mean\\_citric\\_acid & mean\\_residual\\_sugar & mean\\_chlorides & mean\\_free\\_so2 & mean\\_total\\_so2 & mean\\_density & mean\\_pH & mean\\_sulphates & mean\\_alcohol & mean\\_quality\\\\\n",
       " <dbl> & <dbl> & <dbl> & <dbl> & <dbl> & <dbl> & <dbl> & <dbl> & <dbl> & <dbl> & <dbl> & <dbl>\\\\\n",
       "\\hline\n",
       "\t 8.315609 & 0.5313944 & 0.2712383 & 2.547659 & 0.08877107 & 15.93392 & 46.3564 & 0.9967666 & 3.312227 & 0.6696254 & 10.41511 & 3.623309\\\\\n",
       "\\end{tabular}\n"
      ],
      "text/markdown": [
       "\n",
       "A tibble: 1 × 12\n",
       "\n",
       "| mean_fixed_acidity &lt;dbl&gt; | mean_volatile_acidity &lt;dbl&gt; | mean_citric_acid &lt;dbl&gt; | mean_residual_sugar &lt;dbl&gt; | mean_chlorides &lt;dbl&gt; | mean_free_so2 &lt;dbl&gt; | mean_total_so2 &lt;dbl&gt; | mean_density &lt;dbl&gt; | mean_pH &lt;dbl&gt; | mean_sulphates &lt;dbl&gt; | mean_alcohol &lt;dbl&gt; | mean_quality &lt;dbl&gt; |\n",
       "|---|---|---|---|---|---|---|---|---|---|---|---|\n",
       "| 8.315609 | 0.5313944 | 0.2712383 | 2.547659 | 0.08877107 | 15.93392 | 46.3564 | 0.9967666 | 3.312227 | 0.6696254 | 10.41511 | 3.623309 |\n",
       "\n"
      ],
      "text/plain": [
       "  mean_fixed_acidity mean_volatile_acidity mean_citric_acid mean_residual_sugar\n",
       "1 8.315609           0.5313944             0.2712383        2.547659           \n",
       "  mean_chlorides mean_free_so2 mean_total_so2 mean_density mean_pH \n",
       "1 0.08877107     15.93392      46.3564        0.9967666    3.312227\n",
       "  mean_sulphates mean_alcohol mean_quality\n",
       "1 0.6696254      10.41511     3.623309    "
      ]
     },
     "metadata": {},
     "output_type": "display_data"
    }
   ],
   "source": [
    "# summarizing the mean of all variables in our training dataset\n",
    "train_data_mean_summary <- train_data %>%\n",
    "                           mutate(quality = as.numeric(quality)) %>%\n",
    "                           map_dfr(mean, na.rm = TRUE)\n",
    "\n",
    "colnames(train_data_mean_summary) <- paste(\"mean\", colnames(train_data_mean_summary), sep = \"_\")\n",
    "train_data_mean_summary"
   ]
  },
  {
   "cell_type": "code",
   "execution_count": 62,
   "metadata": {},
   "outputs": [
    {
     "name": "stderr",
     "output_type": "stream",
     "text": [
      "`summarise()` ungrouping output (override with `.groups` argument)\n",
      "\n"
     ]
    },
    {
     "data": {
      "text/html": [
       "<table>\n",
       "<caption>A tibble: 6 × 3</caption>\n",
       "<thead>\n",
       "\t<tr><th scope=col>quality</th><th scope=col>count</th><th scope=col>proportion</th></tr>\n",
       "\t<tr><th scope=col>&lt;fct&gt;</th><th scope=col>&lt;int&gt;</th><th scope=col>&lt;dbl&gt;</th></tr>\n",
       "</thead>\n",
       "<tbody>\n",
       "\t<tr><td>3</td><td>  7</td><td> 0.7284079</td></tr>\n",
       "\t<tr><td>4</td><td> 37</td><td> 3.8501561</td></tr>\n",
       "\t<tr><td>5</td><td>409</td><td>42.5598335</td></tr>\n",
       "\t<tr><td>6</td><td>378</td><td>39.3340271</td></tr>\n",
       "\t<tr><td>7</td><td>118</td><td>12.2788762</td></tr>\n",
       "\t<tr><td>8</td><td> 12</td><td> 1.2486993</td></tr>\n",
       "</tbody>\n",
       "</table>\n"
      ],
      "text/latex": [
       "A tibble: 6 × 3\n",
       "\\begin{tabular}{lll}\n",
       " quality & count & proportion\\\\\n",
       " <fct> & <int> & <dbl>\\\\\n",
       "\\hline\n",
       "\t 3 &   7 &  0.7284079\\\\\n",
       "\t 4 &  37 &  3.8501561\\\\\n",
       "\t 5 & 409 & 42.5598335\\\\\n",
       "\t 6 & 378 & 39.3340271\\\\\n",
       "\t 7 & 118 & 12.2788762\\\\\n",
       "\t 8 &  12 &  1.2486993\\\\\n",
       "\\end{tabular}\n"
      ],
      "text/markdown": [
       "\n",
       "A tibble: 6 × 3\n",
       "\n",
       "| quality &lt;fct&gt; | count &lt;int&gt; | proportion &lt;dbl&gt; |\n",
       "|---|---|---|\n",
       "| 3 |   7 |  0.7284079 |\n",
       "| 4 |  37 |  3.8501561 |\n",
       "| 5 | 409 | 42.5598335 |\n",
       "| 6 | 378 | 39.3340271 |\n",
       "| 7 | 118 | 12.2788762 |\n",
       "| 8 |  12 |  1.2486993 |\n",
       "\n"
      ],
      "text/plain": [
       "  quality count proportion\n",
       "1 3         7    0.7284079\n",
       "2 4        37    3.8501561\n",
       "3 5       409   42.5598335\n",
       "4 6       378   39.3340271\n",
       "5 7       118   12.2788762\n",
       "6 8        12    1.2486993"
      ]
     },
     "metadata": {},
     "output_type": "display_data"
    }
   ],
   "source": [
    "# counting the number of observations per our quality classifier\n",
    "train_data_quality_summary <- train_data %>%\n",
    "                              group_by(quality) %>%\n",
    "                              summarize(count = n(),\n",
    "                                        proportion = n() / nrow(train_data) * 100)\n",
    "train_data_quality_summary"
   ]
  },
  {
   "cell_type": "code",
   "execution_count": 63,
   "metadata": {},
   "outputs": [],
   "source": [
    "# scaling the training data\n",
    "train_data_scaled <- train_data %>%\n",
    "                     mutate_at(vars(-quality, -pH),\n",
    "                               ~(scale(., center = TRUE) %>% as.vector))"
   ]
  },
  {
   "cell_type": "code",
   "execution_count": 68,
   "metadata": {},
   "outputs": [],
   "source": [
    "# visualizing the data\n",
    "alcohol_plot <- train_data %>%\n",
    "                ggplot(aes(x = quality, y = alcohol)) +\n",
    "                geom_boxplot() +\n",
    "                theme(text = element_text(size = 14))\n",
    "volatile_acidity_plot <- train_data %>%\n",
    "                      ggplot(aes(x = quality, y = volatile_acidity)) +\n",
    "                      geom_boxplot() +\n",
    "                      theme(text = element_text(size = 14))\n",
    "sulphates_plot <- train_data %>%\n",
    "                  ggplot(aes(x = quality, y = sulphates)) +\n",
    "                  geom_boxplot() +\n",
    "                  theme(text = element_text(size = 14))\n",
    "total_so2_plot <- train_data %>%\n",
    "                  ggplot(aes(x = quality, y = total_so2)) +\n",
    "                  geom_boxplot() +\n",
    "                  theme(text = element_text(size = 14))\n",
    "\n",
    "train_data_quality_summary_plot <- train_data_quality_summary %>%\n",
    "                                   ggplot(aes(x = quality, y = count)) +\n",
    "                                   geom_bar(stat = \"identity\") +\n",
    "                                   labs(x = \"Quality\", y = \"Count\") +\n",
    "                                   theme(text = element_text(size = 14))"
   ]
  },
  {
   "cell_type": "code",
   "execution_count": 71,
   "metadata": {},
   "outputs": [
    {
     "data": {
      "image/png": "[encoded data removed]",
      "text/plain": [
       "plot without title"
      ]
     },
     "metadata": {
      "image/png": {
       "height": 360,
       "width": 1440
      }
     },
     "output_type": "display_data"
    }
   ],
   "source": [
    "# boxplots for our predictor variables to visualize the trend between quality rating and amount measurement\n",
    "options(repr.plot.width = 24, repr.plot.height = 6)\n",
    "summary_plot <- grid.arrange(alcohol_plot,\n",
    "                             volatile_acidity_plot,\n",
    "                             sulphates_plot,\n",
    "                             total_so2_plot,\n",
    "                             nrow=1)"
   ]
  },
  {
   "cell_type": "code",
   "execution_count": 12,
   "metadata": {},
   "outputs": [
    {
     "data": {
      "image/png": "[encoded data removed]",
      "text/plain": [
       "plot without title"
      ]
     },
     "metadata": {
      "image/png": {
       "height": 240,
       "width": 600
      }
     },
     "output_type": "display_data"
    }
   ],
   "source": [
    "# count of observations per classifier plot\n",
    "options(repr.plot.width = 10, options.repr.plot.height = 15)\n",
    "train_data_quality_summary_plot"
   ]
  },
  {
   "cell_type": "markdown",
   "metadata": {},
   "source": [
    "Counts for every observable quality in the training dataset."
   ]
  },
  {
   "cell_type": "markdown",
   "metadata": {},
   "source": [
    "Our data analysis will be conducted using a classification model (specifically k-nearest-neighbours). We begin with using predictor variable selection to find the best predictors in our model. We then tune the model with different values of k to determine the best number of neighbours for our classifier. After obtaining the best k value, we evaluate the accuracy of our model on a test set. We compare the accuracy of our model to another model containing predictor variables as suggested by the paper accompanying the data set. \n",
    "\n",
    "We expect to see that our chosen predictors will greatly influence the quality of wine depending on their relative proportions. That is, we expect that all of our predictors have individual influence over the wine quality, and when combined in a model, each predictor acts to amplify the accuracy of the quality predictions. We also predict that the model we obtain will converge in accuracy with the model suggested in the paper."
   ]
  },
  {
   "cell_type": "markdown",
   "metadata": {},
   "source": [
    "#### Predictor Selection of Our First Model"
   ]
  },
  {
   "cell_type": "markdown",
   "metadata": {},
   "source": [
    "The wine dataset started with a fair amount of potential predictor variables. We first selected a subset of predictor variables from the training set to prevent irrelevant variables from negatively affecting our classifier model. Irrelevant predictors may add a random amount to the distances between observations. This would compromise the accuracy of our model. Selecting a subset of predictor variables would also help reduce computational time. \n",
    "\n",
    "We obtained the best predictor variables in R code using a forward selection method, as the best subset selection method would be too computationally expensive and inefficient on our large dataset. This method can be justified as we do not have a large total number of predictor variables and thus this method would not pose as high of a risk on overestimating the accuracy of one of the training models.\n",
    "\n",
    "To begin our analysis, we created an object dataframe that excluded the quality variable we are predicting. This was the only categorical variable in our dataset so no further alterations were required."
   ]
  },
  {
   "cell_type": "code",
   "execution_count": 21,
   "metadata": {},
   "outputs": [],
   "source": [
    "set.seed(7)\n",
    "\n",
    "# determining predictors\n",
    "data_subset <- train_data\n",
    "names <- colnames(data_subset %>% select(-quality))"
   ]
  },
  {
   "cell_type": "markdown",
   "metadata": {},
   "source": [
    "We then created an empty tibble to store our results of each model string's accuracy, a model specification for k-nn classification, and a 5-fold cross-validation object."
   ]
  },
  {
   "cell_type": "code",
   "execution_count": 22,
   "metadata": {},
   "outputs": [],
   "source": [
    "# empty tibble to store results\n",
    "accuracies <- tibble(size = integer(), \n",
    "                     model_string = character(), \n",
    "                     accuracy = numeric())\n",
    "\n",
    "# model specification\n",
    "spec <- nearest_neighbor(weight_func = \"rectangular\", \n",
    "                             neighbors = tune()) %>%\n",
    "     set_engine(\"kknn\") %>%\n",
    "     set_mode(\"classification\")\n",
    "\n",
    "# 5-fold cross-validation object\n",
    "data_vfold <- vfold_cv(data_subset, v = 5, strata = quality)\n"
   ]
  },
  {
   "cell_type": "markdown",
   "metadata": {},
   "source": [
    "The total number of predictors was stored as an object to be used in creating the model formula. \n",
    "\n",
    "Another object was created to store the selected predictors. "
   ]
  },
  {
   "cell_type": "code",
   "execution_count": 23,
   "metadata": {},
   "outputs": [],
   "source": [
    "# storing the total number of predictors\n",
    "n_total <- length(names)\n",
    "\n",
    "# storing selected predictors\n",
    "selected <- c()"
   ]
  },
  {
   "cell_type": "markdown",
   "metadata": {},
   "source": [
    "Next, we generated two for loops to generate our candidate models through iterative processes. One of which increases the predictor subset size by one and another that chose the best predictor to be added in the next model string. \n",
    "\n",
    "We created a model string using the paste and collapse function to make a model formula for all predictors.\n",
    "\n",
    "For each set of possible predictor combinations, a recipe was created (and standardized to prevent disturbances in the distance calculations of the k-nearest neighbours) before being passed in a workflow that tuned the classifier using 5-fold cross-validation. The recipe used a model formula to test each set of predictors. We chose the best k value by collecting the metrics of the cross-validation accuracy and selecting the k with the highest obtained accuracy value.\n",
    "\n",
    "The best k value was added into each set of predictors. The resulting accuracies were put into the empty dataframe to compare each model string."
   ]
  },
  {
   "cell_type": "code",
   "execution_count": 24,
   "metadata": {},
   "outputs": [
    {
     "name": "stderr",
     "output_type": "stream",
     "text": [
      "\u001b[33m!\u001b[39m \u001b[33mFold3: internal: No observations were detected in `truth` for level(s): '3'\n",
      "Com...\u001b[39m\n",
      "\n",
      "\u001b[33m!\u001b[39m \u001b[33mFold3: internal: No observations were detected in `truth` for level(s): '3'\n",
      "Com...\u001b[39m\n",
      "\n",
      "\u001b[33m!\u001b[39m \u001b[33mFold3: internal: No observations were detected in `truth` for level(s): '3'\n",
      "Com...\u001b[39m\n",
      "\n",
      "\u001b[33m!\u001b[39m \u001b[33mFold3: internal: No observations were detected in `truth` for level(s): '3'\n",
      "Com...\u001b[39m\n",
      "\n",
      "\u001b[33m!\u001b[39m \u001b[33mFold3: internal: No observations were detected in `truth` for level(s): '3'\n",
      "Com...\u001b[39m\n",
      "\n",
      "\u001b[33m!\u001b[39m \u001b[33mFold3: internal: No observations were detected in `truth` for level(s): '3'\n",
      "Com...\u001b[39m\n",
      "\n",
      "\u001b[33m!\u001b[39m \u001b[33mFold3: internal: No observations were detected in `truth` for level(s): '3'\n",
      "Com...\u001b[39m\n",
      "\n",
      "\u001b[33m!\u001b[39m \u001b[33mFold3: internal: No observations were detected in `truth` for level(s): '3'\n",
      "Com...\u001b[39m\n",
      "\n",
      "\u001b[33m!\u001b[39m \u001b[33mFold3: internal: No observations were detected in `truth` for level(s): '3'\n",
      "Com...\u001b[39m\n",
      "\n",
      "\u001b[33m!\u001b[39m \u001b[33mFold3: internal: No observations were detected in `truth` for level(s): '3'\n",
      "Com...\u001b[39m\n",
      "\n",
      "\u001b[33m!\u001b[39m \u001b[33mFold3: internal: No observations were detected in `truth` for level(s): '3'\n",
      "Com...\u001b[39m\n",
      "\n",
      "\u001b[33m!\u001b[39m \u001b[33mFold3: internal: No observations were detected in `truth` for level(s): '3'\n",
      "Com...\u001b[39m\n",
      "\n",
      "\u001b[33m!\u001b[39m \u001b[33mFold3: internal: No observations were detected in `truth` for level(s): '3'\n",
      "Com...\u001b[39m\n",
      "\n",
      "\u001b[33m!\u001b[39m \u001b[33mFold3: internal: No observations were detected in `truth` for level(s): '3'\n",
      "Com...\u001b[39m\n",
      "\n",
      "\u001b[33m!\u001b[39m \u001b[33mFold3: internal: No observations were detected in `truth` for level(s): '3'\n",
      "Com...\u001b[39m\n",
      "\n",
      "\u001b[33m!\u001b[39m \u001b[33mFold3: internal: No observations were detected in `truth` for level(s): '3'\n",
      "Com...\u001b[39m\n",
      "\n",
      "\u001b[33m!\u001b[39m \u001b[33mFold3: internal: No observations were detected in `truth` for level(s): '3'\n",
      "Com...\u001b[39m\n",
      "\n",
      "\u001b[33m!\u001b[39m \u001b[33mFold3: internal: No observations were detected in `truth` for level(s): '3'\n",
      "Com...\u001b[39m\n",
      "\n",
      "\u001b[33m!\u001b[39m \u001b[33mFold3: internal: No observations were detected in `truth` for level(s): '3'\n",
      "Com...\u001b[39m\n",
      "\n",
      "\u001b[33m!\u001b[39m \u001b[33mFold3: internal: No observations were detected in `truth` for level(s): '3'\n",
      "Com...\u001b[39m\n",
      "\n",
      "\u001b[33m!\u001b[39m \u001b[33mFold3: internal: No observations were detected in `truth` for level(s): '3'\n",
      "Com...\u001b[39m\n",
      "\n",
      "\u001b[33m!\u001b[39m \u001b[33mFold3: internal: No observations were detected in `truth` for level(s): '3'\n",
      "Com...\u001b[39m\n",
      "\n",
      "\u001b[33m!\u001b[39m \u001b[33mFold3: internal: No observations were detected in `truth` for level(s): '3'\n",
      "Com...\u001b[39m\n",
      "\n",
      "\u001b[33m!\u001b[39m \u001b[33mFold3: internal: No observations were detected in `truth` for level(s): '3'\n",
      "Com...\u001b[39m\n",
      "\n",
      "\u001b[33m!\u001b[39m \u001b[33mFold3: internal: No observations were detected in `truth` for level(s): '3'\n",
      "Com...\u001b[39m\n",
      "\n",
      "\u001b[33m!\u001b[39m \u001b[33mFold3: internal: No observations were detected in `truth` for level(s): '3'\n",
      "Com...\u001b[39m\n",
      "\n",
      "\u001b[33m!\u001b[39m \u001b[33mFold3: internal: No observations were detected in `truth` for level(s): '3'\n",
      "Com...\u001b[39m\n",
      "\n",
      "\u001b[33m!\u001b[39m \u001b[33mFold3: internal: No observations were detected in `truth` for level(s): '3'\n",
      "Com...\u001b[39m\n",
      "\n",
      "\u001b[33m!\u001b[39m \u001b[33mFold3: internal: No observations were detected in `truth` for level(s): '3'\n",
      "Com...\u001b[39m\n",
      "\n",
      "\u001b[33m!\u001b[39m \u001b[33mFold3: internal: No observations were detected in `truth` for level(s): '3'\n",
      "Com...\u001b[39m\n",
      "\n",
      "\u001b[33m!\u001b[39m \u001b[33mFold3: internal: No observations were detected in `truth` for level(s): '3'\n",
      "Com...\u001b[39m\n",
      "\n",
      "\u001b[33m!\u001b[39m \u001b[33mFold3: internal: No observations were detected in `truth` for level(s): '3'\n",
      "Com...\u001b[39m\n",
      "\n",
      "\u001b[33m!\u001b[39m \u001b[33mFold3: internal: No observations were detected in `truth` for level(s): '3'\n",
      "Com...\u001b[39m\n",
      "\n",
      "\u001b[33m!\u001b[39m \u001b[33mFold3: internal: No observations were detected in `truth` for level(s): '3'\n",
      "Com...\u001b[39m\n",
      "\n",
      "\u001b[33m!\u001b[39m \u001b[33mFold3: internal: No observations were detected in `truth` for level(s): '3'\n",
      "Com...\u001b[39m\n",
      "\n",
      "\u001b[33m!\u001b[39m \u001b[33mFold3: internal: No observations were detected in `truth` for level(s): '3'\n",
      "Com...\u001b[39m\n",
      "\n",
      "\u001b[33m!\u001b[39m \u001b[33mFold3: internal: No observations were detected in `truth` for level(s): '3'\n",
      "Com...\u001b[39m\n",
      "\n",
      "\u001b[33m!\u001b[39m \u001b[33mFold3: internal: No observations were detected in `truth` for level(s): '3'\n",
      "Com...\u001b[39m\n",
      "\n",
      "\u001b[33m!\u001b[39m \u001b[33mFold3: internal: No observations were detected in `truth` for level(s): '3'\n",
      "Com...\u001b[39m\n",
      "\n",
      "\u001b[33m!\u001b[39m \u001b[33mFold3: internal: No observations were detected in `truth` for level(s): '3'\n",
      "Com...\u001b[39m\n",
      "\n",
      "\u001b[33m!\u001b[39m \u001b[33mFold3: internal: No observations were detected in `truth` for level(s): '3'\n",
      "Com...\u001b[39m\n",
      "\n",
      "\u001b[33m!\u001b[39m \u001b[33mFold3: internal: No observations were detected in `truth` for level(s): '3'\n",
      "Com...\u001b[39m\n",
      "\n",
      "\u001b[33m!\u001b[39m \u001b[33mFold3: internal: No observations were detected in `truth` for level(s): '3'\n",
      "Com...\u001b[39m\n",
      "\n",
      "\u001b[33m!\u001b[39m \u001b[33mFold3: internal: No observations were detected in `truth` for level(s): '3'\n",
      "Com...\u001b[39m\n",
      "\n",
      "\u001b[33m!\u001b[39m \u001b[33mFold3: internal: No observations were detected in `truth` for level(s): '3'\n",
      "Com...\u001b[39m\n",
      "\n",
      "\u001b[33m!\u001b[39m \u001b[33mFold3: internal: No observations were detected in `truth` for level(s): '3'\n",
      "Com...\u001b[39m\n",
      "\n",
      "\u001b[33m!\u001b[39m \u001b[33mFold3: internal: No observations were detected in `truth` for level(s): '3'\n",
      "Com...\u001b[39m\n",
      "\n",
      "\u001b[33m!\u001b[39m \u001b[33mFold3: internal: No observations were detected in `truth` for level(s): '3'\n",
      "Com...\u001b[39m\n",
      "\n",
      "\u001b[33m!\u001b[39m \u001b[33mFold3: internal: No observations were detected in `truth` for level(s): '3'\n",
      "Com...\u001b[39m\n",
      "\n",
      "\u001b[33m!\u001b[39m \u001b[33mFold3: internal: No observations were detected in `truth` for level(s): '3'\n",
      "Com...\u001b[39m\n",
      "\n",
      "\u001b[33m!\u001b[39m \u001b[33mFold3: internal: No observations were detected in `truth` for level(s): '3'\n",
      "Com...\u001b[39m\n",
      "\n",
      "\u001b[33m!\u001b[39m \u001b[33mFold3: internal: No observations were detected in `truth` for level(s): '3'\n",
      "Com...\u001b[39m\n",
      "\n",
      "\u001b[33m!\u001b[39m \u001b[33mFold3: internal: No observations were detected in `truth` for level(s): '3'\n",
      "Com...\u001b[39m\n",
      "\n",
      "\u001b[33m!\u001b[39m \u001b[33mFold3: internal: No observations were detected in `truth` for level(s): '3'\n",
      "Com...\u001b[39m\n",
      "\n",
      "\u001b[33m!\u001b[39m \u001b[33mFold3: internal: No observations were detected in `truth` for level(s): '3'\n",
      "Com...\u001b[39m\n",
      "\n",
      "\u001b[33m!\u001b[39m \u001b[33mFold3: internal: No observations were detected in `truth` for level(s): '3'\n",
      "Com...\u001b[39m\n",
      "\n",
      "\u001b[33m!\u001b[39m \u001b[33mFold3: internal: No observations were detected in `truth` for level(s): '3'\n",
      "Com...\u001b[39m\n",
      "\n",
      "\u001b[33m!\u001b[39m \u001b[33mFold3: internal: No observations were detected in `truth` for level(s): '3'\n",
      "Com...\u001b[39m\n",
      "\n",
      "\u001b[33m!\u001b[39m \u001b[33mFold3: internal: No observations were detected in `truth` for level(s): '3'\n",
      "Com...\u001b[39m\n",
      "\n",
      "\u001b[33m!\u001b[39m \u001b[33mFold3: internal: No observations were detected in `truth` for level(s): '3'\n",
      "Com...\u001b[39m\n",
      "\n",
      "\u001b[33m!\u001b[39m \u001b[33mFold3: internal: No observations were detected in `truth` for level(s): '3'\n",
      "Com...\u001b[39m\n",
      "\n",
      "\u001b[33m!\u001b[39m \u001b[33mFold3: internal: No observations were detected in `truth` for level(s): '3'\n",
      "Com...\u001b[39m\n",
      "\n",
      "\u001b[33m!\u001b[39m \u001b[33mFold3: internal: No observations were detected in `truth` for level(s): '3'\n",
      "Com...\u001b[39m\n",
      "\n",
      "\u001b[33m!\u001b[39m \u001b[33mFold3: internal: No observations were detected in `truth` for level(s): '3'\n",
      "Com...\u001b[39m\n",
      "\n",
      "\u001b[33m!\u001b[39m \u001b[33mFold3: internal: No observations were detected in `truth` for level(s): '3'\n",
      "Com...\u001b[39m\n",
      "\n",
      "\u001b[33m!\u001b[39m \u001b[33mFold3: internal: No observations were detected in `truth` for level(s): '3'\n",
      "Com...\u001b[39m\n",
      "\n"
     ]
    },
    {
     "data": {
      "text/html": [
       "<table>\n",
       "<caption>A tibble: 11 × 3</caption>\n",
       "<thead>\n",
       "\t<tr><th scope=col>size</th><th scope=col>model_string</th><th scope=col>accuracy</th></tr>\n",
       "\t<tr><th scope=col>&lt;int&gt;</th><th scope=col>&lt;chr&gt;</th><th scope=col>&lt;dbl&gt;</th></tr>\n",
       "</thead>\n",
       "<tbody>\n",
       "\t<tr><td> 1</td><td>quality ~ alcohol                                                                                                            </td><td>0.5359456</td></tr>\n",
       "\t<tr><td> 2</td><td>quality ~ alcohol+volatile_acidity                                                                                           </td><td>0.5598608</td></tr>\n",
       "\t<tr><td> 3</td><td>quality ~ alcohol+volatile_acidity+total_so2                                                                                 </td><td>0.5827342</td></tr>\n",
       "\t<tr><td> 4</td><td>quality ~ alcohol+volatile_acidity+total_so2+sulphates                                                                       </td><td>0.6046092</td></tr>\n",
       "\t<tr><td> 5</td><td>quality ~ alcohol+volatile_acidity+total_so2+sulphates+chlorides                                                             </td><td>0.5973500</td></tr>\n",
       "\t<tr><td> 6</td><td>quality ~ alcohol+volatile_acidity+total_so2+sulphates+chlorides+density                                                     </td><td>0.5962813</td></tr>\n",
       "\t<tr><td> 7</td><td>quality ~ alcohol+volatile_acidity+total_so2+sulphates+chlorides+density+citric_acid                                         </td><td>0.5858808</td></tr>\n",
       "\t<tr><td> 8</td><td>quality ~ alcohol+volatile_acidity+total_so2+sulphates+chlorides+density+citric_acid+fixed_acidity                           </td><td>0.5827450</td></tr>\n",
       "\t<tr><td> 9</td><td>quality ~ alcohol+volatile_acidity+total_so2+sulphates+chlorides+density+citric_acid+fixed_acidity+free_so2                  </td><td>0.5796254</td></tr>\n",
       "\t<tr><td>10</td><td>quality ~ alcohol+volatile_acidity+total_so2+sulphates+chlorides+density+citric_acid+fixed_acidity+free_so2+residual_sugar   </td><td>0.5775259</td></tr>\n",
       "\t<tr><td>11</td><td>quality ~ alcohol+volatile_acidity+total_so2+sulphates+chlorides+density+citric_acid+fixed_acidity+free_so2+residual_sugar+pH</td><td>0.5618955</td></tr>\n",
       "</tbody>\n",
       "</table>\n"
      ],
      "text/latex": [
       "A tibble: 11 × 3\n",
       "\\begin{tabular}{lll}\n",
       " size & model\\_string & accuracy\\\\\n",
       " <int> & <chr> & <dbl>\\\\\n",
       "\\hline\n",
       "\t  1 & quality \\textasciitilde{} alcohol                                                                                                             & 0.5359456\\\\\n",
       "\t  2 & quality \\textasciitilde{} alcohol+volatile\\_acidity                                                                                            & 0.5598608\\\\\n",
       "\t  3 & quality \\textasciitilde{} alcohol+volatile\\_acidity+total\\_so2                                                                                  & 0.5827342\\\\\n",
       "\t  4 & quality \\textasciitilde{} alcohol+volatile\\_acidity+total\\_so2+sulphates                                                                        & 0.6046092\\\\\n",
       "\t  5 & quality \\textasciitilde{} alcohol+volatile\\_acidity+total\\_so2+sulphates+chlorides                                                              & 0.5973500\\\\\n",
       "\t  6 & quality \\textasciitilde{} alcohol+volatile\\_acidity+total\\_so2+sulphates+chlorides+density                                                      & 0.5962813\\\\\n",
       "\t  7 & quality \\textasciitilde{} alcohol+volatile\\_acidity+total\\_so2+sulphates+chlorides+density+citric\\_acid                                          & 0.5858808\\\\\n",
       "\t  8 & quality \\textasciitilde{} alcohol+volatile\\_acidity+total\\_so2+sulphates+chlorides+density+citric\\_acid+fixed\\_acidity                            & 0.5827450\\\\\n",
       "\t  9 & quality \\textasciitilde{} alcohol+volatile\\_acidity+total\\_so2+sulphates+chlorides+density+citric\\_acid+fixed\\_acidity+free\\_so2                   & 0.5796254\\\\\n",
       "\t 10 & quality \\textasciitilde{} alcohol+volatile\\_acidity+total\\_so2+sulphates+chlorides+density+citric\\_acid+fixed\\_acidity+free\\_so2+residual\\_sugar    & 0.5775259\\\\\n",
       "\t 11 & quality \\textasciitilde{} alcohol+volatile\\_acidity+total\\_so2+sulphates+chlorides+density+citric\\_acid+fixed\\_acidity+free\\_so2+residual\\_sugar+pH & 0.5618955\\\\\n",
       "\\end{tabular}\n"
      ],
      "text/markdown": [
       "\n",
       "A tibble: 11 × 3\n",
       "\n",
       "| size &lt;int&gt; | model_string &lt;chr&gt; | accuracy &lt;dbl&gt; |\n",
       "|---|---|---|\n",
       "|  1 | quality ~ alcohol                                                                                                             | 0.5359456 |\n",
       "|  2 | quality ~ alcohol+volatile_acidity                                                                                            | 0.5598608 |\n",
       "|  3 | quality ~ alcohol+volatile_acidity+total_so2                                                                                  | 0.5827342 |\n",
       "|  4 | quality ~ alcohol+volatile_acidity+total_so2+sulphates                                                                        | 0.6046092 |\n",
       "|  5 | quality ~ alcohol+volatile_acidity+total_so2+sulphates+chlorides                                                              | 0.5973500 |\n",
       "|  6 | quality ~ alcohol+volatile_acidity+total_so2+sulphates+chlorides+density                                                      | 0.5962813 |\n",
       "|  7 | quality ~ alcohol+volatile_acidity+total_so2+sulphates+chlorides+density+citric_acid                                          | 0.5858808 |\n",
       "|  8 | quality ~ alcohol+volatile_acidity+total_so2+sulphates+chlorides+density+citric_acid+fixed_acidity                            | 0.5827450 |\n",
       "|  9 | quality ~ alcohol+volatile_acidity+total_so2+sulphates+chlorides+density+citric_acid+fixed_acidity+free_so2                   | 0.5796254 |\n",
       "| 10 | quality ~ alcohol+volatile_acidity+total_so2+sulphates+chlorides+density+citric_acid+fixed_acidity+free_so2+residual_sugar    | 0.5775259 |\n",
       "| 11 | quality ~ alcohol+volatile_acidity+total_so2+sulphates+chlorides+density+citric_acid+fixed_acidity+free_so2+residual_sugar+pH | 0.5618955 |\n",
       "\n"
      ],
      "text/plain": [
       "   size\n",
       "1   1  \n",
       "2   2  \n",
       "3   3  \n",
       "4   4  \n",
       "5   5  \n",
       "6   6  \n",
       "7   7  \n",
       "8   8  \n",
       "9   9  \n",
       "10 10  \n",
       "11 11  \n",
       "   model_string                                                                                                                 \n",
       "1  quality ~ alcohol                                                                                                            \n",
       "2  quality ~ alcohol+volatile_acidity                                                                                           \n",
       "3  quality ~ alcohol+volatile_acidity+total_so2                                                                                 \n",
       "4  quality ~ alcohol+volatile_acidity+total_so2+sulphates                                                                       \n",
       "5  quality ~ alcohol+volatile_acidity+total_so2+sulphates+chlorides                                                             \n",
       "6  quality ~ alcohol+volatile_acidity+total_so2+sulphates+chlorides+density                                                     \n",
       "7  quality ~ alcohol+volatile_acidity+total_so2+sulphates+chlorides+density+citric_acid                                         \n",
       "8  quality ~ alcohol+volatile_acidity+total_so2+sulphates+chlorides+density+citric_acid+fixed_acidity                           \n",
       "9  quality ~ alcohol+volatile_acidity+total_so2+sulphates+chlorides+density+citric_acid+fixed_acidity+free_so2                  \n",
       "10 quality ~ alcohol+volatile_acidity+total_so2+sulphates+chlorides+density+citric_acid+fixed_acidity+free_so2+residual_sugar   \n",
       "11 quality ~ alcohol+volatile_acidity+total_so2+sulphates+chlorides+density+citric_acid+fixed_acidity+free_so2+residual_sugar+pH\n",
       "   accuracy \n",
       "1  0.5359456\n",
       "2  0.5598608\n",
       "3  0.5827342\n",
       "4  0.6046092\n",
       "5  0.5973500\n",
       "6  0.5962813\n",
       "7  0.5858808\n",
       "8  0.5827450\n",
       "9  0.5796254\n",
       "10 0.5775259\n",
       "11 0.5618955"
      ]
     },
     "metadata": {},
     "output_type": "display_data"
    }
   ],
   "source": [
    "# the first for loop - for every size from 1 to the total number of predictors\n",
    "set.seed(7)\n",
    "\n",
    "for (i in 1:n_total) {\n",
    "    \n",
    "# for every predictor still not added yet\n",
    "accs <- list()\n",
    "models <- list()\n",
    "\n",
    "# for the second for loop - adds best predictor in the next model string\n",
    "for (j in 1:length(names)) {\n",
    "        \n",
    "# model string for the combination of predictors\n",
    "preds_new <- c(selected, names[[j]])\n",
    "model_string <- paste(\"quality\", \"~\", paste(preds_new, collapse=\"+\"))\n",
    "        \n",
    "# recipe created from the model string\n",
    "data_recipe <- recipe(as.formula(model_string), \n",
    "                data = data_subset) %>%\n",
    "                step_scale(all_predictors()) %>%\n",
    "                step_center(all_predictors())\n",
    "\n",
    "# tuning the KNN classifier with the recipe and model specification then collecting the accuracy for the best K.\n",
    "acc <- workflow() %>%\n",
    "        add_recipe(data_recipe) %>%\n",
    "        add_model(spec) %>%\n",
    "        tune_grid(resamples = data_vfold, grid = 10) %>%\n",
    "        collect_metrics() %>%\n",
    "        filter(.metric == \"accuracy\") %>%\n",
    "        summarize(mx = max(mean))\n",
    "\n",
    "acc <- acc$mx %>% unlist()\n",
    "    \n",
    "# adding best k to the dataframe\n",
    "accs[[j]] <- acc\n",
    "models[[j]] <- model_string\n",
    "}\n",
    "    \n",
    "jstar <- which.max(unlist(accs))\n",
    "    \n",
    "accuracies <- accuracies %>% \n",
    "              add_row(size = i, \n",
    "              model_string = models[[jstar]], \n",
    "              accuracy = accs[[jstar]])\n",
    "    \n",
    "selected <- c(selected, names[[jstar]])\n",
    "    \n",
    "names <- names[-jstar]\n",
    "}\n",
    "\n",
    "accuracies"
   ]
  },
  {
   "cell_type": "markdown",
   "metadata": {},
   "source": [
    "The table above suggests that a classifier using four predictor variables (fixed_acidity, residual_sugar, alcohol, sulphates, total_so2) would provide the best accuracy (~60% accuracy). We used these variables in the remaining analysis accordingly."
   ]
  },
  {
   "cell_type": "markdown",
   "metadata": {},
   "source": [
    "#### Finding the Best K value in our classifier"
   ]
  },
  {
   "cell_type": "markdown",
   "metadata": {},
   "source": [
    "Using our selected predictor variables, we begin tuning our classifier. \n",
    "\n",
    "We tuned our K-NN classifier with the selected variables and determined the best k using cross-validation. We started by refining our training data so only the chosen predictors and predictor variables were present. Then we created a recipe using the refined training data and standardized the variables, set our model specification to k-nearest neighbours classification, and created a 5-fold cross-validation model stratified by quality. Using a workflow, we tuned the model to values of k ranging from 1-100 by 5. We collected the accuracies of the folds and plotted them over k-neighbours. As a result, there was a high and stable accuracy in the range of k values 25-75 at an average of about 0.58. "
   ]
  },
  {
   "cell_type": "code",
   "execution_count": 25,
   "metadata": {},
   "outputs": [
    {
     "name": "stderr",
     "output_type": "stream",
     "text": [
      "\u001b[33m!\u001b[39m \u001b[33mFold1: internal: No observations were detected in `truth` for level(s): '3', '8...\u001b[39m\n",
      "\n"
     ]
    },
    {
     "data": {
      "image/png": "[encoded data removed]",
      "text/plain": [
       "plot without title"
      ]
     },
     "metadata": {
      "image/png": {
       "height": 240,
       "width": 600
      }
     },
     "output_type": "display_data"
    }
   ],
   "source": [
    "# selecting only relevant predictor variables\n",
    "predictor_train_data <- train_data %>% select(c(quality, alcohol, volatile_acidity, sulphates, total_so2))\n",
    "\n",
    "# recipe specifying the use of all predictor variables on predicting quality\n",
    "recipe <- recipe(quality ~., data = predictor_train_data) %>%\n",
    "step_scale(all_predictors()) %>%\n",
    "step_center(all_predictors())\n",
    "\n",
    "# tuning the model and specifying k-nn classification \n",
    "model <- nearest_neighbor(weight_func = \"rectangular\", neighbors = tune()) %>%\n",
    "set_engine(\"kknn\") %>%\n",
    "set_mode(\"classification\")\n",
    "\n",
    "# creating the 5-fold cross-validation object\n",
    "vfold <- vfold_cv(predictor_train_data, v = 5, strata = quality)\n",
    "\n",
    "# range of k values tested\n",
    "k_vals <- tibble(neighbors = seq(1,100,5))\n",
    "\n",
    "# tuning the model in a workflow\n",
    "train_fit <- workflow() %>%\n",
    "add_recipe(recipe) %>%\n",
    "add_model(model) %>%\n",
    "tune_grid(resamples = vfold, grid = k_vals) %>%\n",
    "collect_metrics() %>%\n",
    "filter(.metric == \"accuracy\") %>%\n",
    "arrange(mean)\n",
    "\n",
    "# plotting accuracies by k values\n",
    "k_plot <- ggplot(train_fit, aes(x=neighbors, y=mean)) + geom_point() + geom_line()\n",
    "k_plot"
   ]
  },
  {
   "cell_type": "markdown",
   "metadata": {},
   "source": [
    "The code above yeilded a very variable k plot of accuracy. The best range of k values appears to be within k values of 25-75 with accuracies each about 0.58. We decided to redo the model tuning procedure using k values within the specified range above to see if we get a more stable plot and to help identify the best k within this range.\n",
    "\n",
    "We retried tuning the model for values of k ranging from 25-75 by 2. We plotted the accuracy against k values similar to what was done previously to get a sense of the accuuracy variability. We also previewed the 6 highest accuracy k values using the tail function to identify the best k."
   ]
  },
  {
   "cell_type": "code",
   "execution_count": 34,
   "metadata": {},
   "outputs": [
    {
     "name": "stderr",
     "output_type": "stream",
     "text": [
      "\u001b[33m!\u001b[39m \u001b[33mFold2: internal: No observations were detected in `truth` for level(s): '3'\n",
      "Com...\u001b[39m\n",
      "\n",
      "\u001b[33m!\u001b[39m \u001b[33mFold5: internal: No observations were detected in `truth` for level(s): '3'\n",
      "Com...\u001b[39m\n",
      "\n"
     ]
    },
    {
     "data": {
      "text/html": [
       "<table>\n",
       "<caption>A tibble: 6 × 7</caption>\n",
       "<thead>\n",
       "\t<tr><th scope=col>neighbors</th><th scope=col>.metric</th><th scope=col>.estimator</th><th scope=col>mean</th><th scope=col>n</th><th scope=col>std_err</th><th scope=col>.config</th></tr>\n",
       "\t<tr><th scope=col>&lt;dbl&gt;</th><th scope=col>&lt;chr&gt;</th><th scope=col>&lt;chr&gt;</th><th scope=col>&lt;dbl&gt;</th><th scope=col>&lt;int&gt;</th><th scope=col>&lt;dbl&gt;</th><th scope=col>&lt;chr&gt;</th></tr>\n",
       "</thead>\n",
       "<tbody>\n",
       "\t<tr><td>45</td><td>accuracy</td><td>multiclass</td><td>0.5931107</td><td>5</td><td>0.009282647</td><td>Model11</td></tr>\n",
       "\t<tr><td>27</td><td>accuracy</td><td>multiclass</td><td>0.5941252</td><td>5</td><td>0.010833824</td><td>Model02</td></tr>\n",
       "\t<tr><td>25</td><td>accuracy</td><td>multiclass</td><td>0.5941577</td><td>5</td><td>0.008673268</td><td>Model01</td></tr>\n",
       "\t<tr><td>41</td><td>accuracy</td><td>multiclass</td><td>0.5941848</td><td>5</td><td>0.007473561</td><td>Model09</td></tr>\n",
       "\t<tr><td>47</td><td>accuracy</td><td>multiclass</td><td>0.5941957</td><td>5</td><td>0.011067949</td><td>Model12</td></tr>\n",
       "\t<tr><td>39</td><td>accuracy</td><td>multiclass</td><td>0.5962574</td><td>5</td><td>0.009303498</td><td>Model08</td></tr>\n",
       "</tbody>\n",
       "</table>\n"
      ],
      "text/latex": [
       "A tibble: 6 × 7\n",
       "\\begin{tabular}{lllllll}\n",
       " neighbors & .metric & .estimator & mean & n & std\\_err & .config\\\\\n",
       " <dbl> & <chr> & <chr> & <dbl> & <int> & <dbl> & <chr>\\\\\n",
       "\\hline\n",
       "\t 45 & accuracy & multiclass & 0.5931107 & 5 & 0.009282647 & Model11\\\\\n",
       "\t 27 & accuracy & multiclass & 0.5941252 & 5 & 0.010833824 & Model02\\\\\n",
       "\t 25 & accuracy & multiclass & 0.5941577 & 5 & 0.008673268 & Model01\\\\\n",
       "\t 41 & accuracy & multiclass & 0.5941848 & 5 & 0.007473561 & Model09\\\\\n",
       "\t 47 & accuracy & multiclass & 0.5941957 & 5 & 0.011067949 & Model12\\\\\n",
       "\t 39 & accuracy & multiclass & 0.5962574 & 5 & 0.009303498 & Model08\\\\\n",
       "\\end{tabular}\n"
      ],
      "text/markdown": [
       "\n",
       "A tibble: 6 × 7\n",
       "\n",
       "| neighbors &lt;dbl&gt; | .metric &lt;chr&gt; | .estimator &lt;chr&gt; | mean &lt;dbl&gt; | n &lt;int&gt; | std_err &lt;dbl&gt; | .config &lt;chr&gt; |\n",
       "|---|---|---|---|---|---|---|\n",
       "| 45 | accuracy | multiclass | 0.5931107 | 5 | 0.009282647 | Model11 |\n",
       "| 27 | accuracy | multiclass | 0.5941252 | 5 | 0.010833824 | Model02 |\n",
       "| 25 | accuracy | multiclass | 0.5941577 | 5 | 0.008673268 | Model01 |\n",
       "| 41 | accuracy | multiclass | 0.5941848 | 5 | 0.007473561 | Model09 |\n",
       "| 47 | accuracy | multiclass | 0.5941957 | 5 | 0.011067949 | Model12 |\n",
       "| 39 | accuracy | multiclass | 0.5962574 | 5 | 0.009303498 | Model08 |\n",
       "\n"
      ],
      "text/plain": [
       "  neighbors .metric  .estimator mean      n std_err     .config\n",
       "1 45        accuracy multiclass 0.5931107 5 0.009282647 Model11\n",
       "2 27        accuracy multiclass 0.5941252 5 0.010833824 Model02\n",
       "3 25        accuracy multiclass 0.5941577 5 0.008673268 Model01\n",
       "4 41        accuracy multiclass 0.5941848 5 0.007473561 Model09\n",
       "5 47        accuracy multiclass 0.5941957 5 0.011067949 Model12\n",
       "6 39        accuracy multiclass 0.5962574 5 0.009303498 Model08"
      ]
     },
     "metadata": {},
     "output_type": "display_data"
    },
    {
     "data": {
      "image/png": "[encoded data removed]",
      "text/plain": [
       "plot without title"
      ]
     },
     "metadata": {
      "image/png": {
       "height": 420,
       "width": 420
      }
     },
     "output_type": "display_data"
    }
   ],
   "source": [
    "# new range of k values being tested\n",
    "k_vals_2 <- tibble(neighbors = seq(25,75,2))\n",
    "\n",
    "# tuning the model in a workflow\n",
    "train_fit_2 <- workflow() %>%\n",
    "add_recipe(recipe) %>%\n",
    "add_model(model) %>%\n",
    "tune_grid(resamples = vfold, grid = k_vals_2) %>%\n",
    "collect_metrics() %>%\n",
    "filter(.metric == \"accuracy\") %>%\n",
    "arrange(mean)\n",
    "\n",
    "k_plot_2 <- ggplot(train_fit_2, aes(x=neighbors, y=mean)) + geom_point() + geom_line()\n",
    "k_plot_2\n",
    "\n",
    "tail(train_fit_2)"
   ]
  },
  {
   "cell_type": "markdown",
   "metadata": {},
   "source": [
    "After collecting the accuracies of each k and plotting it against accuracy, we found that a k value of 39 would be our best choice (accuracy of 0.596). There was a lot fo variability in accuracies in our plots but we attributed this to inherit properties of raw data. Therefore, the most stable k value was within the 30-40 range. In concordance, the k value that obtained the highest value was at 39. \n",
    "\n",
    "We retrained our model to a k value of 39 and evaluated our accuracy on the test data set to see how generalizable the results are to furutre observations."
   ]
  },
  {
   "cell_type": "code",
   "execution_count": 41,
   "metadata": {},
   "outputs": [],
   "source": [
    "test_data_rare <- test_data %>%\n",
    "                    filter(quality %in% c(3,4,8))"
   ]
  },
  {
   "cell_type": "code",
   "execution_count": 45,
   "metadata": {},
   "outputs": [
    {
     "data": {
      "text/html": [
       "<table>\n",
       "<caption>A tibble: 1 × 3</caption>\n",
       "<thead>\n",
       "\t<tr><th scope=col>.metric</th><th scope=col>.estimator</th><th scope=col>.estimate</th></tr>\n",
       "\t<tr><th scope=col>&lt;chr&gt;</th><th scope=col>&lt;chr&gt;</th><th scope=col>&lt;dbl&gt;</th></tr>\n",
       "</thead>\n",
       "<tbody>\n",
       "\t<tr><td>accuracy</td><td>multiclass</td><td>0.6065831</td></tr>\n",
       "</tbody>\n",
       "</table>\n"
      ],
      "text/latex": [
       "A tibble: 1 × 3\n",
       "\\begin{tabular}{lll}\n",
       " .metric & .estimator & .estimate\\\\\n",
       " <chr> & <chr> & <dbl>\\\\\n",
       "\\hline\n",
       "\t accuracy & multiclass & 0.6065831\\\\\n",
       "\\end{tabular}\n"
      ],
      "text/markdown": [
       "\n",
       "A tibble: 1 × 3\n",
       "\n",
       "| .metric &lt;chr&gt; | .estimator &lt;chr&gt; | .estimate &lt;dbl&gt; |\n",
       "|---|---|---|\n",
       "| accuracy | multiclass | 0.6065831 |\n",
       "\n"
      ],
      "text/plain": [
       "  .metric  .estimator .estimate\n",
       "1 accuracy multiclass 0.6065831"
      ]
     },
     "metadata": {},
     "output_type": "display_data"
    },
    {
     "data": {
      "text/html": [
       "<table>\n",
       "<caption>A tibble: 1 × 3</caption>\n",
       "<thead>\n",
       "\t<tr><th scope=col>.metric</th><th scope=col>.estimator</th><th scope=col>.estimate</th></tr>\n",
       "\t<tr><th scope=col>&lt;chr&gt;</th><th scope=col>&lt;chr&gt;</th><th scope=col>&lt;dbl&gt;</th></tr>\n",
       "</thead>\n",
       "<tbody>\n",
       "\t<tr><td>accuracy</td><td>multiclass</td><td>0</td></tr>\n",
       "</tbody>\n",
       "</table>\n"
      ],
      "text/latex": [
       "A tibble: 1 × 3\n",
       "\\begin{tabular}{lll}\n",
       " .metric & .estimator & .estimate\\\\\n",
       " <chr> & <chr> & <dbl>\\\\\n",
       "\\hline\n",
       "\t accuracy & multiclass & 0\\\\\n",
       "\\end{tabular}\n"
      ],
      "text/markdown": [
       "\n",
       "A tibble: 1 × 3\n",
       "\n",
       "| .metric &lt;chr&gt; | .estimator &lt;chr&gt; | .estimate &lt;dbl&gt; |\n",
       "|---|---|---|\n",
       "| accuracy | multiclass | 0 |\n",
       "\n"
      ],
      "text/plain": [
       "  .metric  .estimator .estimate\n",
       "1 accuracy multiclass 0        "
      ]
     },
     "metadata": {},
     "output_type": "display_data"
    }
   ],
   "source": [
    "# retraining the model with k = 39\n",
    "best_model <- nearest_neighbor(weight_func = \"rectangular\", neighbors = 37) %>%\n",
    "set_engine(\"kknn\") %>%\n",
    "set_mode(\"classification\")\n",
    "\n",
    "# fitting the recipe and model specification onto the training data\n",
    "train_fit <- workflow() %>%\n",
    "add_recipe(recipe) %>%\n",
    "add_model(best_model) %>%\n",
    "fit(predictor_train_data)\n",
    "\n",
    "# prediction accuracy of our model on the test data \n",
    "predict_accuracy <- predict(train_fit, test_data) %>%\n",
    "bind_cols(test_data) %>%\n",
    "metrics(truth = quality, estimate = .pred_class) %>%\n",
    "filter(.metric == \"accuracy\")\n",
    "\n",
    "predict_accuracy\n",
    "\n",
    "# prediction accuracy of our model on the rare quality observations of the test data \n",
    "predict_accuracy_rare <- predict(train_fit, test_data_rare) %>%\n",
    "bind_cols(test_data_rare) %>%\n",
    "metrics(truth = quality, estimate = .pred_class) %>%\n",
    "filter(.metric == \"accuracy\")\n",
    "\n",
    "predict_accuracy_rare"
   ]
  },
  {
   "cell_type": "markdown",
   "metadata": {},
   "source": [
    "The obtained accuracy of our model on the test data is 0.61. This is better than the training accuracy of our best model. Thus, this model has a good evaluation accuracy and may sufficient at generalizing to future observations."
   ]
  },
  {
   "cell_type": "markdown",
   "metadata": {},
   "source": [
    "### Creating a Model using Variable Support Vector Machine from the Paper"
   ]
  },
  {
   "cell_type": "code",
   "execution_count": 25,
   "metadata": {},
   "outputs": [
    {
     "data": {
      "text/html": [
       "<table>\n",
       "<caption>A tibble: 1 × 3</caption>\n",
       "<thead>\n",
       "\t<tr><th scope=col>.metric</th><th scope=col>.estimator</th><th scope=col>.estimate</th></tr>\n",
       "\t<tr><th scope=col>&lt;chr&gt;</th><th scope=col>&lt;chr&gt;</th><th scope=col>&lt;dbl&gt;</th></tr>\n",
       "</thead>\n",
       "<tbody>\n",
       "\t<tr><td>accuracy</td><td>multiclass</td><td>0.6050157</td></tr>\n",
       "</tbody>\n",
       "</table>\n"
      ],
      "text/latex": [
       "A tibble: 1 × 3\n",
       "\\begin{tabular}{lll}\n",
       " .metric & .estimator & .estimate\\\\\n",
       " <chr> & <chr> & <dbl>\\\\\n",
       "\\hline\n",
       "\t accuracy & multiclass & 0.6050157\\\\\n",
       "\\end{tabular}\n"
      ],
      "text/markdown": [
       "\n",
       "A tibble: 1 × 3\n",
       "\n",
       "| .metric &lt;chr&gt; | .estimator &lt;chr&gt; | .estimate &lt;dbl&gt; |\n",
       "|---|---|---|\n",
       "| accuracy | multiclass | 0.6050157 |\n",
       "\n"
      ],
      "text/plain": [
       "  .metric  .estimator .estimate\n",
       "1 accuracy multiclass 0.6050157"
      ]
     },
     "metadata": {},
     "output_type": "display_data"
    }
   ],
   "source": [
    "# Wenwen did this... thx Wenwen :D\n",
    "\n",
    "# creating model using variable support vector machine from paper\n",
    "\n",
    "train_data_SVM <- train_data %>% \n",
    "    select(c(quality, fixed_acidity, alcohol, sulphates, total_so2, free_so2, volatile_acidity, pH))\n",
    "\n",
    "SVM_recipe <- recipe(quality ~., data = train_data_SVM) %>%\n",
    "    step_scale(all_predictors()) %>%\n",
    "    step_center(all_predictors())\n",
    "\n",
    "SVM_model <- nearest_neighbor(weight_func = \"rectangular\", neighbors = tune()) %>%\n",
    "    set_engine(\"kknn\") %>%\n",
    "    set_mode(\"classification\") \n",
    "\n",
    "SVM_vfold <- vfold_cv(train_data_SVM, v = 5, strata = quality)\n",
    "\n",
    "k_value <- tibble(neighbors = seq(from = 1, to = 100, by = 5))\n",
    "\n",
    "#SVM_results <- workflow() %>% \n",
    "#    add_recipe(SVM_recipe) %>% \n",
    "#    add_model(SVM_model) %>% \n",
    "#    tune_grid(resamples = SVM_vfold, grid = k_value) %>% \n",
    "#    collect_metrics()\n",
    "\n",
    "#k_accuracies <- SVM_results %>% \n",
    "#    filter(.metric == \"accuracy\")\n",
    "\n",
    "#k_accuracies\n",
    "\n",
    "#accuracy_vs_k <- ggplot(k_accuracies, aes(x = neighbors, y = mean)) +\n",
    "#    geom_point() +\n",
    "#    geom_line() +\n",
    "#    labs(x = \"Neighbors\", y = \"Accuracy Estimate\") +\n",
    "#    theme(text = element_text(size = 12))\n",
    "\n",
    "#accuracy_vs_k\n",
    "\n",
    "# from the graph, we select 75 as the k value because it has a relatively high accuracy estimate and is consistent with nearby values\n",
    "\n",
    "best_SVM_model <- nearest_neighbor(weight_func = \"rectangular\", neighbors = 65) %>%\n",
    "    set_engine(\"kknn\") %>%\n",
    "    set_mode(\"classification\")\n",
    "\n",
    "SVM_fit <- workflow() %>%\n",
    "    add_recipe(SVM_recipe) %>%\n",
    "    add_model(best_SVM_model) %>%\n",
    "    fit(data = train_data_SVM)\n",
    "\n",
    "SVM_predictions <- predict(SVM_fit, test_data) %>%\n",
    "    bind_cols(test_data) %>%\n",
    "    metrics(truth = quality, estimate = .pred_class) %>%\n",
    "    filter(.metric == \"accuracy\")\n",
    "SVM_predictions"
   ]
  },
  {
   "cell_type": "markdown",
   "metadata": {},
   "source": [
    "## References"
   ]
  },
  {
   "cell_type": "markdown",
   "metadata": {},
   "source": [
    "Cortez, P., Cerdeira, A., Almeida, F., Matos, T., Reis, J. (2009). Modeling wine \n",
    "\tpreferences by data mining from physicochemical properties. Decision \n",
    "\tSupport Systems. 47, 547-553. https://doi.org/10.1016/j.dss.2009.05.016.\n",
    " \n",
    "Smith, D. V., & Margolskee, R. F. (2001). Making Sense of Taste. Scientific \n",
    "\tAmerican, 284, 32–39. http://www.jstor.org/stable/26059127\n"
   ]
  },
  {
   "cell_type": "code",
   "execution_count": null,
   "metadata": {},
   "outputs": [],
   "source": []
  }
 ],
 "metadata": {
  "kernelspec": {
   "display_name": "R",
   "language": "R",
   "name": "ir"
  },
  "language_info": {
   "codemirror_mode": "r",
   "file_extension": ".r",
   "mimetype": "text/x-r-source",
   "name": "R",
   "pygments_lexer": "r",
   "version": "4.0.0"
  }
 },
 "nbformat": 4,
 "nbformat_minor": 4
}
