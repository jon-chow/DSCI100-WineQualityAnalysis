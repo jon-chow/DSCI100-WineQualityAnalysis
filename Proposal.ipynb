{
 "cells": [
  {
   "cell_type": "markdown",
   "metadata": {},
   "source": [
    "# **Predicting Wine Quality Through Classification and Regression**\n",
    "#### DSCI 100 Winter T2 Group 006-042"
   ]
  },
  {
   "cell_type": "markdown",
   "metadata": {},
   "source": [
    "## Introduction:"
   ]
  },
  {
   "cell_type": "markdown",
   "metadata": {},
   "source": [
    "Consumer selection on wine has been heavily dependent on quality certifications for purchasing decisions and producers have been doing the same for pricing (Cortez et al., 2009). The certification for wine quality is a tedious process, requiring wine experts (connoisseurs) to sample the taste and smell of the wine to determine its quality (Cortez et al., 2009). However, there are biases when conducting these sensory taste tests due to personal preferences of the experts and the complex nature of the human taste bud (Smith and Margolskee, 2001).\n",
    "\n",
    "This poses the question as to whether regression and classification can be used to build a predictive model for deciding upon an objective evaluation of wine quality. In saying, we would like to determine what properties have the most influence in wine quality.\n",
    "\n",
    "Cortez et al. (2009) obtained physicochemical data of 1599 vinho verde red wine samples from Portugal during the certification phase of wine production from May 2004 to February 2007. They collected sensory data based on the average grading by three human assessors on a scale of 0 - 10. The physicochemical data describes many factors of wine that may affect taste preference and quality."
   ]
  },
  {
   "cell_type": "markdown",
   "metadata": {},
   "source": [
    "## Preliminary Exploratory Data Analysis:"
   ]
  },
  {
   "cell_type": "code",
   "execution_count": 4,
   "metadata": {},
   "outputs": [],
   "source": [
    "# loading libraries\n",
    "library(tidyverse)\n",
    "library(tidymodels)\n",
    "library(gridExtra)"
   ]
  },
  {
   "cell_type": "markdown",
   "metadata": {},
   "source": [
    "#### Attribute (units):\n",
    "- Fixed acidity ($g/dm^3$)\n",
    "- Volatile acidity ($g/dm^3$)\n",
    "- Citric acid ($g/dm^3$)\n",
    "- Residual sugar ($g/dm^3$)\n",
    "- Chlorides ($g/dm^3$)\n",
    "- Free sulfur dioxide ($mg/dm^3$)\n",
    "- Total sulfur dioxide ($mg/dm^3$)\n",
    "- Density ($g/cm^3$)\n",
    "- pH\n",
    "- Sulphates ($g/dm^3$)\n",
    "- Alcohol ($vol.\\%$)"
   ]
  },
  {
   "cell_type": "code",
   "execution_count": 5,
   "metadata": {},
   "outputs": [
    {
     "name": "stderr",
     "output_type": "stream",
     "text": [
      "Parsed with column specification:\n",
      "cols(\n",
      "  `fixed acidity` = \u001b[32mcol_double()\u001b[39m,\n",
      "  `volatile acidity` = \u001b[32mcol_double()\u001b[39m,\n",
      "  `citric acid` = \u001b[32mcol_double()\u001b[39m,\n",
      "  `residual sugar` = \u001b[32mcol_double()\u001b[39m,\n",
      "  chlorides = \u001b[32mcol_double()\u001b[39m,\n",
      "  `free sulfur dioxide` = \u001b[32mcol_double()\u001b[39m,\n",
      "  `total sulfur dioxide` = \u001b[32mcol_double()\u001b[39m,\n",
      "  density = \u001b[32mcol_double()\u001b[39m,\n",
      "  pH = \u001b[32mcol_double()\u001b[39m,\n",
      "  sulphates = \u001b[32mcol_double()\u001b[39m,\n",
      "  alcohol = \u001b[32mcol_double()\u001b[39m,\n",
      "  quality = \u001b[32mcol_double()\u001b[39m\n",
      ")\n",
      "\n"
     ]
    }
   ],
   "source": [
    "# reading data\n",
    "data <- read_csv(\"data/red_wine_quality.csv\")"
   ]
  },
  {
   "cell_type": "code",
   "execution_count": 6,
   "metadata": {},
   "outputs": [],
   "source": [
    "# cleaning and wrangling data\n",
    "colnames(data) <- gsub(\" \", \"_\", names(data))\n",
    "colnames(data)[colnames(data) %in% c(\"free_sulfur_dioxide\", \"total_sulfur_dioxide\")] <- c(\"free_so2\", \"total_so2\")\n",
    "\n",
    "clean_data <- data %>%\n",
    "              mutate(quality = as_factor(quality))\n",
    "# %>%\n",
    "#               subset(select = -c(fixed_acidity, volatile_acidity, citric_acid, free_so2))"
   ]
  },
  {
   "cell_type": "code",
   "execution_count": 7,
   "metadata": {},
   "outputs": [],
   "source": [
    "# splitting data\n",
    "set.seed(100)\n",
    "clean_data_split <- initial_split(clean_data, prop = 0.5, strata = quality)\n",
    "train_data <- training(clean_data_split)\n",
    "test_data <- testing(clean_data_split)"
   ]
  },
  {
   "cell_type": "code",
   "execution_count": 8,
   "metadata": {},
   "outputs": [
    {
     "name": "stdout",
     "output_type": "stream",
     "text": [
      "Rows: 800\n",
      "Columns: 12\n",
      "$ fixed_acidity    \u001b[3m\u001b[90m<dbl>\u001b[39m\u001b[23m 7.8, 11.2, 7.4, 7.9, 7.5, 6.7, 5.6, 8.5, 7.4, 7.9, 7…\n",
      "$ volatile_acidity \u001b[3m\u001b[90m<dbl>\u001b[39m\u001b[23m 0.760, 0.280, 0.660, 0.600, 0.500, 0.580, 0.615, 0.2…\n",
      "$ citric_acid      \u001b[3m\u001b[90m<dbl>\u001b[39m\u001b[23m 0.04, 0.56, 0.00, 0.06, 0.36, 0.08, 0.00, 0.56, 0.08…\n",
      "$ residual_sugar   \u001b[3m\u001b[90m<dbl>\u001b[39m\u001b[23m 2.3, 1.9, 1.8, 1.6, 6.1, 1.8, 1.6, 1.8, 4.4, 1.8, 1.…\n",
      "$ chlorides        \u001b[3m\u001b[90m<dbl>\u001b[39m\u001b[23m 0.092, 0.075, 0.075, 0.069, 0.071, 0.097, 0.089, 0.0…\n",
      "$ free_so2         \u001b[3m\u001b[90m<dbl>\u001b[39m\u001b[23m 15, 17, 13, 15, 17, 15, 16, 35, 6, 17, 10, 9, 21, 10…\n",
      "$ total_so2        \u001b[3m\u001b[90m<dbl>\u001b[39m\u001b[23m 54, 60, 40, 59, 102, 65, 59, 103, 29, 56, 37, 67, 40…\n",
      "$ density          \u001b[3m\u001b[90m<dbl>\u001b[39m\u001b[23m 0.9970, 0.9980, 0.9978, 0.9964, 0.9978, 0.9959, 0.99…\n",
      "$ pH               \u001b[3m\u001b[90m<dbl>\u001b[39m\u001b[23m 3.26, 3.16, 3.51, 3.30, 3.35, 3.28, 3.58, 3.30, 3.38…\n",
      "$ sulphates        \u001b[3m\u001b[90m<dbl>\u001b[39m\u001b[23m 0.65, 0.58, 0.56, 0.46, 0.80, 0.54, 0.52, 0.75, 0.50…\n",
      "$ alcohol          \u001b[3m\u001b[90m<dbl>\u001b[39m\u001b[23m 9.8, 9.8, 9.4, 9.4, 10.5, 9.2, 9.9, 10.5, 9.0, 9.2, …\n",
      "$ quality          \u001b[3m\u001b[90m<fct>\u001b[39m\u001b[23m 5, 6, 5, 5, 5, 5, 5, 7, 4, 6, 5, 5, 6, 5, 5, 6, 6, 5…\n"
     ]
    }
   ],
   "source": [
    "glimpse(train_data)"
   ]
  },
  {
   "cell_type": "code",
   "execution_count": 9,
   "metadata": {},
   "outputs": [
    {
     "name": "stderr",
     "output_type": "stream",
     "text": [
      "`summarise()` ungrouping output (override with `.groups` argument)\n",
      "\n"
     ]
    }
   ],
   "source": [
    "# summarizing data\n",
    "train_data_mean_summary <- train_data %>%\n",
    "                           mutate(quality = as.numeric(quality)) %>%\n",
    "                           map_dfr(mean, na.rm = TRUE)\n",
    "\n",
    "colnames(train_data_mean_summary) <- paste(\"mean\", colnames(train_data_mean_summary), sep = \"_\")\n",
    "\n",
    "train_data_quality_summary <- train_data %>%\n",
    "                              group_by(quality) %>%\n",
    "                              summarize(count = n(),\n",
    "                                        proportion = n() / nrow(train_data) * 100)"
   ]
  },
  {
   "cell_type": "code",
   "execution_count": 10,
   "metadata": {},
   "outputs": [
    {
     "data": {
      "text/html": [
       "<table>\n",
       "<caption>A tibble: 1 × 12</caption>\n",
       "<thead>\n",
       "\t<tr><th scope=col>mean_fixed_acidity</th><th scope=col>mean_volatile_acidity</th><th scope=col>mean_citric_acid</th><th scope=col>mean_residual_sugar</th><th scope=col>mean_chlorides</th><th scope=col>mean_free_so2</th><th scope=col>mean_total_so2</th><th scope=col>mean_density</th><th scope=col>mean_pH</th><th scope=col>mean_sulphates</th><th scope=col>mean_alcohol</th><th scope=col>mean_quality</th></tr>\n",
       "\t<tr><th scope=col>&lt;dbl&gt;</th><th scope=col>&lt;dbl&gt;</th><th scope=col>&lt;dbl&gt;</th><th scope=col>&lt;dbl&gt;</th><th scope=col>&lt;dbl&gt;</th><th scope=col>&lt;dbl&gt;</th><th scope=col>&lt;dbl&gt;</th><th scope=col>&lt;dbl&gt;</th><th scope=col>&lt;dbl&gt;</th><th scope=col>&lt;dbl&gt;</th><th scope=col>&lt;dbl&gt;</th><th scope=col>&lt;dbl&gt;</th></tr>\n",
       "</thead>\n",
       "<tbody>\n",
       "\t<tr><td>8.27125</td><td>0.5275813</td><td>0.2728</td><td>2.544188</td><td>0.08852375</td><td>16.12875</td><td>46.7925</td><td>0.9967183</td><td>3.311362</td><td>0.6569</td><td>10.41125</td><td>3.63</td></tr>\n",
       "</tbody>\n",
       "</table>\n"
      ],
      "text/latex": [
       "A tibble: 1 × 12\n",
       "\\begin{tabular}{llllllllllll}\n",
       " mean\\_fixed\\_acidity & mean\\_volatile\\_acidity & mean\\_citric\\_acid & mean\\_residual\\_sugar & mean\\_chlorides & mean\\_free\\_so2 & mean\\_total\\_so2 & mean\\_density & mean\\_pH & mean\\_sulphates & mean\\_alcohol & mean\\_quality\\\\\n",
       " <dbl> & <dbl> & <dbl> & <dbl> & <dbl> & <dbl> & <dbl> & <dbl> & <dbl> & <dbl> & <dbl> & <dbl>\\\\\n",
       "\\hline\n",
       "\t 8.27125 & 0.5275813 & 0.2728 & 2.544188 & 0.08852375 & 16.12875 & 46.7925 & 0.9967183 & 3.311362 & 0.6569 & 10.41125 & 3.63\\\\\n",
       "\\end{tabular}\n"
      ],
      "text/markdown": [
       "\n",
       "A tibble: 1 × 12\n",
       "\n",
       "| mean_fixed_acidity &lt;dbl&gt; | mean_volatile_acidity &lt;dbl&gt; | mean_citric_acid &lt;dbl&gt; | mean_residual_sugar &lt;dbl&gt; | mean_chlorides &lt;dbl&gt; | mean_free_so2 &lt;dbl&gt; | mean_total_so2 &lt;dbl&gt; | mean_density &lt;dbl&gt; | mean_pH &lt;dbl&gt; | mean_sulphates &lt;dbl&gt; | mean_alcohol &lt;dbl&gt; | mean_quality &lt;dbl&gt; |\n",
       "|---|---|---|---|---|---|---|---|---|---|---|---|\n",
       "| 8.27125 | 0.5275813 | 0.2728 | 2.544188 | 0.08852375 | 16.12875 | 46.7925 | 0.9967183 | 3.311362 | 0.6569 | 10.41125 | 3.63 |\n",
       "\n"
      ],
      "text/plain": [
       "  mean_fixed_acidity mean_volatile_acidity mean_citric_acid mean_residual_sugar\n",
       "1 8.27125            0.5275813             0.2728           2.544188           \n",
       "  mean_chlorides mean_free_so2 mean_total_so2 mean_density mean_pH \n",
       "1 0.08852375     16.12875      46.7925        0.9967183    3.311362\n",
       "  mean_sulphates mean_alcohol mean_quality\n",
       "1 0.6569         10.41125     3.63        "
      ]
     },
     "metadata": {},
     "output_type": "display_data"
    }
   ],
   "source": [
    "# mean of predictor variables and classifier\n",
    "train_data_mean_summary"
   ]
  },
  {
   "cell_type": "code",
   "execution_count": 11,
   "metadata": {},
   "outputs": [
    {
     "data": {
      "text/html": [
       "<table>\n",
       "<caption>A tibble: 6 × 3</caption>\n",
       "<thead>\n",
       "\t<tr><th scope=col>quality</th><th scope=col>count</th><th scope=col>proportion</th></tr>\n",
       "\t<tr><th scope=col>&lt;fct&gt;</th><th scope=col>&lt;int&gt;</th><th scope=col>&lt;dbl&gt;</th></tr>\n",
       "</thead>\n",
       "<tbody>\n",
       "\t<tr><td>3</td><td>  6</td><td> 0.750</td></tr>\n",
       "\t<tr><td>4</td><td> 25</td><td> 3.125</td></tr>\n",
       "\t<tr><td>5</td><td>342</td><td>42.750</td></tr>\n",
       "\t<tr><td>6</td><td>320</td><td>40.000</td></tr>\n",
       "\t<tr><td>7</td><td>100</td><td>12.500</td></tr>\n",
       "\t<tr><td>8</td><td>  7</td><td> 0.875</td></tr>\n",
       "</tbody>\n",
       "</table>\n"
      ],
      "text/latex": [
       "A tibble: 6 × 3\n",
       "\\begin{tabular}{lll}\n",
       " quality & count & proportion\\\\\n",
       " <fct> & <int> & <dbl>\\\\\n",
       "\\hline\n",
       "\t 3 &   6 &  0.750\\\\\n",
       "\t 4 &  25 &  3.125\\\\\n",
       "\t 5 & 342 & 42.750\\\\\n",
       "\t 6 & 320 & 40.000\\\\\n",
       "\t 7 & 100 & 12.500\\\\\n",
       "\t 8 &   7 &  0.875\\\\\n",
       "\\end{tabular}\n"
      ],
      "text/markdown": [
       "\n",
       "A tibble: 6 × 3\n",
       "\n",
       "| quality &lt;fct&gt; | count &lt;int&gt; | proportion &lt;dbl&gt; |\n",
       "|---|---|---|\n",
       "| 3 |   6 |  0.750 |\n",
       "| 4 |  25 |  3.125 |\n",
       "| 5 | 342 | 42.750 |\n",
       "| 6 | 320 | 40.000 |\n",
       "| 7 | 100 | 12.500 |\n",
       "| 8 |   7 |  0.875 |\n",
       "\n"
      ],
      "text/plain": [
       "  quality count proportion\n",
       "1 3         6    0.750    \n",
       "2 4        25    3.125    \n",
       "3 5       342   42.750    \n",
       "4 6       320   40.000    \n",
       "5 7       100   12.500    \n",
       "6 8         7    0.875    "
      ]
     },
     "metadata": {},
     "output_type": "display_data"
    }
   ],
   "source": [
    "# count of classifier\n",
    "train_data_quality_summary"
   ]
  },
  {
   "cell_type": "code",
   "execution_count": 16,
   "metadata": {},
   "outputs": [],
   "source": [
    "# scaling data\n",
    "train_data_scaled <- train_data %>%\n",
    "                     mutate_at(vars(-quality),\n",
    "                               ~(scale(., center = TRUE) %>% as.vector))"
   ]
  },
  {
   "cell_type": "code",
   "execution_count": 13,
   "metadata": {},
   "outputs": [],
   "source": [
    "# visualizing data\n",
    "alcohol_plot <- train_data %>%\n",
    "                ggplot(aes(x = quality, y = alcohol)) +\n",
    "                geom_boxplot() +\n",
    "                theme(text = element_text(size = 14))\n",
    "sulphates_plot <- train_data %>%\n",
    "                  ggplot(aes(x = quality, y = sulphates)) +\n",
    "                  geom_boxplot() +\n",
    "                  theme(text = element_text(size = 14))\n",
    "total_so2_plot <- train_data %>%\n",
    "                  ggplot(aes(x = quality, y = total_so2)) +\n",
    "                  geom_boxplot() +\n",
    "                  theme(text = element_text(size = 14))\n",
    "residual_sugar_plot <- train_data %>%\n",
    "                       ggplot(aes(x = quality, y = residual_sugar)) +\n",
    "                       geom_boxplot() +\n",
    "                       theme(text = element_text(size = 14))\n",
    "fixed_acidity_plot <- train_data %>%\n",
    "                      ggplot(aes(x = quality, y = fixed_acidity)) +\n",
    "                      geom_boxplot() +\n",
    "                      theme(text = element_text(size = 14))\n",
    "\n",
    "quality_summary_plot <- train_data_quality_summary %>%\n",
    "                                   ggplot(aes(x = quality, y = count)) +\n",
    "                                   geom_bar(stat = \"identity\") +\n",
    "                                   labs(x = \"Quality\", y = \"Count\") +\n",
    "                                   theme(text = element_text(size = 14))"
   ]
  },
  {
   "cell_type": "code",
   "execution_count": 14,
   "metadata": {},
   "outputs": [
    {
     "data": {
      "image/png": "[encoded data removed]",
      "text/plain": [
       "plot without title"
      ]
     },
     "metadata": {
      "image/png": {
       "height": 360,
       "width": 1440
      }
     },
     "output_type": "display_data"
    }
   ],
   "source": [
    "# predictor variables boxplots\n",
    "options(repr.plot.width = 24, repr.plot.height = 6)\n",
    "summary_plot <- grid.arrange(alcohol_plot, sulphates_plot, total_so2_plot, residual_sugar_plot, fixed_acidity_plot, nrow=1)"
   ]
  },
  {
   "cell_type": "code",
   "execution_count": 15,
   "metadata": {},
   "outputs": [
    {
     "ename": "ERROR",
     "evalue": "Error in eval(expr, envir, enclos): object 'train_data_quality_summary_plot' not found\n",
     "output_type": "error",
     "traceback": [
      "Error in eval(expr, envir, enclos): object 'train_data_quality_summary_plot' not found\nTraceback:\n"
     ]
    }
   ],
   "source": [
    "# count of classifier plot\n",
    "options(repr.plot.width = 10, options.repr.plot.height = 15)\n",
    "train_data_quality_summary_plot"
   ]
  },
  {
   "cell_type": "markdown",
   "metadata": {},
   "source": [
    "## Methods:"
   ]
  },
  {
   "cell_type": "markdown",
   "metadata": {},
   "source": [
    "Our data analysis will be conducted using a regression model (k-nearest-neighbours) and classification via supervised learning. We will be using alcohol, sulphates, total sulfur dioxide, residual sugar and fixed acidity as our predictors to help predict and classify the wine quality. When analyzing the outcomes, our results will be visualized on a bar plot.\n",
    " \n"
   ]
  },
  {
   "cell_type": "markdown",
   "metadata": {},
   "source": [
    "## Expected Outcomes and Significance:"
   ]
  },
  {
   "cell_type": "markdown",
   "metadata": {},
   "source": [
    "We expect to see that our chosen predictors will greatly influence the quality of wine depending on their relative proportions. That is, we expect that all of our predictors have individual influence over the wine quality, and when combined in a model, each predictor acts to amplify the accuracy of the quality predictions.\n",
    "\n",
    "The impact of these findings may help improve the wine industry. In recent years, this industry is growing and thus there is an increased interest in investing in more innovative techniques that may enhance wine production as well as its selling. Our work aims to integrate subjective rankings to objective measures so that people can extrapolate these findings and make better quality wines. These variables are able to be controlled and manipulated during production. Thus, our findings may be used by oenologists to improve their wine production.\n",
    "\n",
    "Future questions that may arise include those concerned over what other potential factors may influence the quality of wine or whether the interaction between variables has a greater impact than considered singularly. Further assessment may attempt to discover relationships between variables that together produce a stronger prediction of wine quality. This analysis may also raise the question of whether subjective experience or objective measures matter most. It is possible that personal and sensory experiences play a larger role in shaping wine quality rankings. Therefore, further analysis may explore these subjective factors.\n"
   ]
  },
  {
   "cell_type": "markdown",
   "metadata": {},
   "source": [
    "## Working Data Analysis:"
   ]
  },
  {
   "cell_type": "code",
   "execution_count": null,
   "metadata": {},
   "outputs": [],
   "source": [
    "# creating a model\n",
    "\n",
    "set.seed(7)\n",
    "\n",
    "predictor_train_data <- train_data %>% select(c(quality, fixed_acidity, residual_sugar, alcohol, sulphates, total_so2, fixed_acidity))\n",
    "\n",
    "recipe <- recipe(quality ~., data = predictor_train_data) %>%\n",
    "step_scale(all_predictors()) %>%\n",
    "step_center(all_predictors())\n",
    "\n",
    "model <- nearest_neighbor(weight_func = \"rectangular\", neighbors = tune()) %>%\n",
    "set_engine(\"kknn\") %>%\n",
    "set_mode(\"classification\")\n",
    "\n",
    "vfold <- vfold_cv(predictor_train_data, v = 5, strata = quality)\n",
    "\n",
    "# code below yeilded a very variable k plot of accuracy, best k's = 1, 6, 76, 36, 11, and 56. All a accuracies around 0.56.\n",
    "# so i limited it to a smaller range.  \n",
    "\n",
    "# k_vals <- tibble(neighbors = seq(1,100,5))\n",
    "\n",
    "# train_fit <- workflow() %>%\n",
    "# add_recipe(recipe) %>%\n",
    "# add_model(model) %>%\n",
    "# tune_grid(resamples = vfold, grid = k_vals) %>%\n",
    "# collect_metrics() %>%\n",
    "# filter(.metric == \"accuracy\") %>%\n",
    "# arrange(mean)\n",
    "\n",
    "# tail(train_fit)\n",
    "\n",
    "# k_plot <- ggplot(train_fit, aes(x=neighbors, y=mean)) + geom_point() + geom_line()\n",
    "# k_plot\n",
    "\n",
    "# code below yeilded a fairly variable k plot of accuracy, but k = 35 likely best for preventing under and overfitting.\n",
    "# k = 29 also does not vary as much from nearby points.\n",
    "\n",
    "# k_vals_2 <- tibble(neighbors = seq(25,80,2))\n",
    "\n",
    "# train_fit_2 <- workflow() %>%\n",
    "# add_recipe(recipe) %>%\n",
    "# add_model(model) %>%\n",
    "# tune_grid(resamples = vfold, grid = k_vals_2) %>%\n",
    "# collect_metrics() %>%\n",
    "# filter(.metric == \"accuracy\") %>%\n",
    "# arrange(mean)\n",
    "\n",
    "# tail(train_fit_2)\n",
    "\n",
    "# k_plot_2 <- ggplot(train_fit_2, aes(x=neighbors, y=mean)) + geom_point() + geom_line()\n",
    "# k_plot_2\n",
    "\n",
    "# using best model of k = 35, with accuracy 0.5587600.\n",
    "\n",
    "best_model <- nearest_neighbor(weight_func = \"rectangular\", neighbors = 35) %>%\n",
    "set_engine(\"kknn\") %>%\n",
    "set_mode(\"classification\")\n",
    "\n",
    "train_fit <- workflow() %>%\n",
    "add_recipe(recipe) %>%\n",
    "add_model(best_model) %>%\n",
    "fit(predictor_train_data)\n",
    "\n",
    "predict_accuracy <- predict(train_fit, test_data) %>%\n",
    "bind_cols(test_data) %>%\n",
    "metrics(truth = quality, estimate = .pred_class) %>%\n",
    "filter(.metric == \"accuracy\")\n",
    "predict_accuracy\n",
    "\n",
    "# above code gives 0.5957447 evaluation accuracy which is better than chance alone.\n"
   ]
  },
  {
   "cell_type": "code",
   "execution_count": 22,
   "metadata": {},
   "outputs": [
    {
     "name": "stderr",
     "output_type": "stream",
     "text": [
      "\u001b[33m!\u001b[39m \u001b[33mFold1: internal: No observations were detected in `truth` for level(s): '3'\n",
      "Com...\u001b[39m\n",
      "\n",
      "\u001b[33m!\u001b[39m \u001b[33mFold4: internal: No observations were detected in `truth` for level(s): '3', '8...\u001b[39m\n",
      "\n"
     ]
    },
    {
     "data": {
      "text/html": [
       "<table>\n",
       "<caption>A tibble: 1 × 3</caption>\n",
       "<thead>\n",
       "\t<tr><th scope=col>.metric</th><th scope=col>.estimator</th><th scope=col>.estimate</th></tr>\n",
       "\t<tr><th scope=col>&lt;chr&gt;</th><th scope=col>&lt;chr&gt;</th><th scope=col>&lt;dbl&gt;</th></tr>\n",
       "</thead>\n",
       "<tbody>\n",
       "\t<tr><td>accuracy</td><td>multiclass</td><td>0.6107635</td></tr>\n",
       "</tbody>\n",
       "</table>\n"
      ],
      "text/latex": [
       "A tibble: 1 × 3\n",
       "\\begin{tabular}{lll}\n",
       " .metric & .estimator & .estimate\\\\\n",
       " <chr> & <chr> & <dbl>\\\\\n",
       "\\hline\n",
       "\t accuracy & multiclass & 0.6107635\\\\\n",
       "\\end{tabular}\n"
      ],
      "text/markdown": [
       "\n",
       "A tibble: 1 × 3\n",
       "\n",
       "| .metric &lt;chr&gt; | .estimator &lt;chr&gt; | .estimate &lt;dbl&gt; |\n",
       "|---|---|---|\n",
       "| accuracy | multiclass | 0.6107635 |\n",
       "\n"
      ],
      "text/plain": [
       "  .metric  .estimator .estimate\n",
       "1 accuracy multiclass 0.6107635"
      ]
     },
     "metadata": {},
     "output_type": "display_data"
    }
   ],
   "source": [
    "# creating model using variable support vector machine from paper\n",
    "\n",
    "set.seed(7)\n",
    "\n",
    "train_data_SVM <- train_data %>% \n",
    "    select(c(quality, fixed_acidity, alcohol, sulphates, total_so2, free_so2, volatile_acidity, pH))\n",
    "\n",
    "SVM_recipe <- recipe(quality ~., data = train_data_SVM) %>%\n",
    "    step_scale(all_predictors()) %>%\n",
    "    step_center(all_predictors())\n",
    "\n",
    "SVM_model <- nearest_neighbor(weight_func = \"rectangular\", neighbors = tune()) %>%\n",
    "    set_engine(\"kknn\") %>%\n",
    "    set_mode(\"classification\") \n",
    "\n",
    "SVM_vfold <- vfold_cv(train_data_SVM, v = 5, strata = quality)\n",
    "\n",
    "k_value <- tibble(neighbors = seq(from = 1, to = 100, by = 5))\n",
    "\n",
    "#SVM_results <- workflow() %>% \n",
    "#    add_recipe(SVM_recipe) %>% \n",
    "#    add_model(SVM_model) %>% \n",
    "#    tune_grid(resamples = SVM_vfold, grid = k_value) %>% \n",
    "#    collect_metrics()\n",
    "\n",
    "#k_accuracies <- SVM_results %>% \n",
    "#    filter(.metric == \"accuracy\")\n",
    "\n",
    "#k_accuracies\n",
    "\n",
    "#accuracy_vs_k <- ggplot(k_accuracies, aes(x = neighbors, y = mean)) +\n",
    "#    geom_point() +\n",
    "#    geom_line() +\n",
    "#    labs(x = \"Neighbors\", y = \"Accuracy Estimate\") +\n",
    "#    theme(text = element_text(size = 12))\n",
    "\n",
    "#accuracy_vs_k\n",
    "\n",
    "# from the graph, we select 75 as the k value because it has a relatively high accuracy estimate and is consistent with nearby values\n",
    "\n",
    "best_SVM_model <- nearest_neighbor(weight_func = \"rectangular\", neighbors = 75) %>%\n",
    "    set_engine(\"kknn\") %>%\n",
    "    set_mode(\"classification\")\n",
    "\n",
    "SVM_fit <- workflow() %>%\n",
    "    add_recipe(SVM_recipe) %>%\n",
    "    add_model(best_SVM_model) %>%\n",
    "    fit(data = train_data_SVM)\n",
    "\n",
    "SVM_predictions <- predict(SVM_fit, test_data) %>%\n",
    "    bind_cols(test_data) %>%\n",
    "    metrics(truth = quality, estimate = .pred_class) %>%\n",
    "    filter(.metric == \"accuracy\")\n",
    "SVM_predictions"
   ]
  },
  {
   "cell_type": "markdown",
   "metadata": {},
   "source": [
    "## References"
   ]
  },
  {
   "cell_type": "markdown",
   "metadata": {},
   "source": [
    "Cortez, P., Cerdeira, A., Almeida, F., Matos, T., Reis, J. (2009). Modeling wine \n",
    "\tpreferences by data mining from physicochemical properties. Decision \n",
    "\tSupport Systems. 47, 547-553. https://doi.org/10.1016/j.dss.2009.05.016.\n",
    " \n",
    "Smith, D. V., & Margolskee, R. F. (2001). Making Sense of Taste. Scientific \n",
    "\tAmerican, 284, 32–39. http://www.jstor.org/stable/26059127\n"
   ]
  },
  {
   "cell_type": "code",
   "execution_count": null,
   "metadata": {},
   "outputs": [],
   "source": []
  }
 ],
 "metadata": {
  "kernelspec": {
   "display_name": "R",
   "language": "R",
   "name": "ir"
  },
  "language_info": {
   "codemirror_mode": "r",
   "file_extension": ".r",
   "mimetype": "text/x-r-source",
   "name": "R",
   "pygments_lexer": "r",
   "version": "4.0.0"
  }
 },
 "nbformat": 4,
 "nbformat_minor": 4
}
